{
 "cells": [
  {
   "cell_type": "markdown",
   "metadata": {
    "collapsed": true,
    "pycharm": {
     "name": "#%% md\n"
    }
   },
   "source": [
    "### Visual Spectrum Mine Detection\n",
    "In the present notebook the latest advancements in AI and ML are exploited in order to detect the PFM-1 mine in images captured through optical sensors working in the visual spectrum. Different backgrounds and environments have been selected during the production of the image dataset in order to strengthen the algorithm.\n",
    "\n",
    "The algorithm can be divided in the following phases:\n",
    "1. Augmentation of True and False Photos\n",
    "2. Conversion from *.png* or *.jpg* to *.tiff* to embed **(LAT, LON)** info (randomly generate around Paris)\n",
    "3. Use of the YOLO model\n",
    "4. Verification of the model's performance on the test dataset extracting the following results:\n",
    "    - **(LAT, LON)** of the detected mine: conversion **(X, Y)** -> **(LAT, LON)**\n",
    "    - Probability of mine presence: given by YOLO\n",
    "    - Confidence level of the detection: given by YOLO\n"
   ]
  },
  {
   "cell_type": "code",
   "execution_count": 2,
   "metadata": {
    "collapsed": false,
    "pycharm": {
     "name": "#%%\n"
    }
   },
   "outputs": [
    {
     "name": "stderr",
     "output_type": "stream",
     "text": [
      "C:\\Users\\alesa\\anaconda3\\Lib\\site-packages\\pydantic\\main.py:214: UserWarning: blur_limit and sigma_limit minimum value can not be both equal to 0. blur_limit minimum value changed to 3.\n",
      "  validated_self = self.__pydantic_validator__.validate_python(data, self_instance=self)\n"
     ]
    }
   ],
   "source": [
    "# 0. Import necessary modules and libraries\n",
    "from augmentation import process_images\n",
    "from geo_conversion import convert_images_to_tiff\n",
    "from model import *\n",
    "from evaluation import *\n",
    "\n",
    "trained = True"
   ]
  },
  {
   "cell_type": "code",
   "execution_count": null,
   "metadata": {
    "collapsed": false,
    "pycharm": {
     "name": "#%%\n"
    }
   },
   "outputs": [],
   "source": [
    "# 1. Augmentation of True and False images\n",
    "if not trained:\n",
    "    process_images(\"original/true\", \"augmented/true\")\n",
    "    process_images(\"original/false\", \"augmented/false\")"
   ]
  },
  {
   "cell_type": "code",
   "execution_count": null,
   "metadata": {
    "collapsed": false,
    "pycharm": {
     "name": "#%%\n"
    }
   },
   "outputs": [],
   "source": [
    "# 2. Conversion to .tiff\n",
    "if not trained:\n",
    "    convert_images_to_tiff(\"augmented/true\", \"geo/true\")\n",
    "    convert_images_to_tiff(\"augmented/false\", \"geo/false\")"
   ]
  },
  {
   "cell_type": "code",
   "execution_count": null,
   "metadata": {
    "collapsed": false,
    "pycharm": {
     "name": "#%%\n"
    }
   },
   "outputs": [],
   "source": [
    "# 3.1 Use of YOLO model: Dataset preparation\n",
    "if not trained:\n",
    "    dataset = prepare_dataset(\"geo/true\", \"geo/false\", \"dataset\")"
   ]
  },
  {
   "cell_type": "code",
   "execution_count": null,
   "metadata": {
    "collapsed": false,
    "pycharm": {
     "name": "#%%\n"
    }
   },
   "outputs": [],
   "source": [
    "# 3.3 Use of YOLO model: Model training\n",
    "if not trained:\n",
    "    train_model()"
   ]
  },
  {
   "cell_type": "code",
   "execution_count": 3,
   "metadata": {
    "collapsed": false,
    "pycharm": {
     "name": "#%%\n"
    }
   },
   "outputs": [
    {
     "name": "stdout",
     "output_type": "stream",
     "text": [
      "\n",
      "image 1/92 C:\\Users\\alesa\\Desktop\\Magistrale\\ESILV\\Veille et enjeux\\mine-recognition\\VeE Algorithm\\dataset\\test\\images\\IMG_0244.tiff: 640x480 1 mine, 106.3ms\n",
      "image 2/92 C:\\Users\\alesa\\Desktop\\Magistrale\\ESILV\\Veille et enjeux\\mine-recognition\\VeE Algorithm\\dataset\\test\\images\\IMG_0244_aug_2.tiff: 640x480 1 mine, 122.6ms\n",
      "image 3/92 C:\\Users\\alesa\\Desktop\\Magistrale\\ESILV\\Veille et enjeux\\mine-recognition\\VeE Algorithm\\dataset\\test\\images\\IMG_0245_aug_1.tiff: 640x640 1 mine, 170.2ms\n",
      "image 4/92 C:\\Users\\alesa\\Desktop\\Magistrale\\ESILV\\Veille et enjeux\\mine-recognition\\VeE Algorithm\\dataset\\test\\images\\IMG_0245_aug_2.tiff: 640x480 1 mine, 107.9ms\n",
      "image 5/92 C:\\Users\\alesa\\Desktop\\Magistrale\\ESILV\\Veille et enjeux\\mine-recognition\\VeE Algorithm\\dataset\\test\\images\\IMG_0245_aug_3.tiff: 640x480 1 mine, 94.5ms\n",
      "image 6/92 C:\\Users\\alesa\\Desktop\\Magistrale\\ESILV\\Veille et enjeux\\mine-recognition\\VeE Algorithm\\dataset\\test\\images\\IMG_0246_aug_2.tiff: 480x640 1 mine, 102.6ms\n",
      "image 7/92 C:\\Users\\alesa\\Desktop\\Magistrale\\ESILV\\Veille et enjeux\\mine-recognition\\VeE Algorithm\\dataset\\test\\images\\IMG_0246_aug_3.tiff: 480x640 (no detections), 85.7ms\n",
      "image 8/92 C:\\Users\\alesa\\Desktop\\Magistrale\\ESILV\\Veille et enjeux\\mine-recognition\\VeE Algorithm\\dataset\\test\\images\\IMG_0246_aug_5.tiff: 480x640 (no detections), 115.1ms\n",
      "image 9/92 C:\\Users\\alesa\\Desktop\\Magistrale\\ESILV\\Veille et enjeux\\mine-recognition\\VeE Algorithm\\dataset\\test\\images\\IMG_0246_aug_6.tiff: 480x640 1 mine, 97.7ms\n",
      "image 10/92 C:\\Users\\alesa\\Desktop\\Magistrale\\ESILV\\Veille et enjeux\\mine-recognition\\VeE Algorithm\\dataset\\test\\images\\IMG_0247_aug_1.tiff: 640x640 (no detections), 92.0ms\n",
      "image 11/92 C:\\Users\\alesa\\Desktop\\Magistrale\\ESILV\\Veille et enjeux\\mine-recognition\\VeE Algorithm\\dataset\\test\\images\\IMG_0247_aug_6.tiff: 480x640 1 mine, 93.6ms\n",
      "image 12/92 C:\\Users\\alesa\\Desktop\\Magistrale\\ESILV\\Veille et enjeux\\mine-recognition\\VeE Algorithm\\dataset\\test\\images\\IMG_0247_aug_7.tiff: 480x640 (no detections), 78.2ms\n",
      "image 13/92 C:\\Users\\alesa\\Desktop\\Magistrale\\ESILV\\Veille et enjeux\\mine-recognition\\VeE Algorithm\\dataset\\test\\images\\IMG_0248_aug_1.tiff: 640x640 1 mine, 98.4ms\n",
      "image 14/92 C:\\Users\\alesa\\Desktop\\Magistrale\\ESILV\\Veille et enjeux\\mine-recognition\\VeE Algorithm\\dataset\\test\\images\\IMG_0248_aug_7.tiff: 480x640 1 mine, 73.2ms\n",
      "image 15/92 C:\\Users\\alesa\\Desktop\\Magistrale\\ESILV\\Veille et enjeux\\mine-recognition\\VeE Algorithm\\dataset\\test\\images\\IMG_0249.tiff: 640x480 (no detections), 68.4ms\n",
      "image 16/92 C:\\Users\\alesa\\Desktop\\Magistrale\\ESILV\\Veille et enjeux\\mine-recognition\\VeE Algorithm\\dataset\\test\\images\\IMG_0249_aug_2.tiff: 640x480 (no detections), 77.8ms\n",
      "image 17/92 C:\\Users\\alesa\\Desktop\\Magistrale\\ESILV\\Veille et enjeux\\mine-recognition\\VeE Algorithm\\dataset\\test\\images\\IMG_0249_aug_6.tiff: 640x480 1 mine, 71.9ms\n",
      "image 18/92 C:\\Users\\alesa\\Desktop\\Magistrale\\ESILV\\Veille et enjeux\\mine-recognition\\VeE Algorithm\\dataset\\test\\images\\IMG_0250.tiff: 640x480 (no detections), 67.5ms\n",
      "image 19/92 C:\\Users\\alesa\\Desktop\\Magistrale\\ESILV\\Veille et enjeux\\mine-recognition\\VeE Algorithm\\dataset\\test\\images\\IMG_0250_aug_7.tiff: 640x480 1 mine, 79.3ms\n",
      "image 20/92 C:\\Users\\alesa\\Desktop\\Magistrale\\ESILV\\Veille et enjeux\\mine-recognition\\VeE Algorithm\\dataset\\test\\images\\IMG_0251_aug_5.tiff: 640x416 (no detections), 78.7ms\n",
      "image 21/92 C:\\Users\\alesa\\Desktop\\Magistrale\\ESILV\\Veille et enjeux\\mine-recognition\\VeE Algorithm\\dataset\\test\\images\\IMG_0251_aug_6.tiff: 640x416 (no detections), 69.4ms\n",
      "image 22/92 C:\\Users\\alesa\\Desktop\\Magistrale\\ESILV\\Veille et enjeux\\mine-recognition\\VeE Algorithm\\dataset\\test\\images\\IMG_0251_aug_7.tiff: 640x480 1 mine, 78.3ms\n",
      "image 23/92 C:\\Users\\alesa\\Desktop\\Magistrale\\ESILV\\Veille et enjeux\\mine-recognition\\VeE Algorithm\\dataset\\test\\images\\IMG_0252_aug_3.tiff: 640x480 (no detections), 67.9ms\n",
      "image 24/92 C:\\Users\\alesa\\Desktop\\Magistrale\\ESILV\\Veille et enjeux\\mine-recognition\\VeE Algorithm\\dataset\\test\\images\\IMG_0252_aug_4.tiff: 640x480 1 mine, 70.8ms\n",
      "image 25/92 C:\\Users\\alesa\\Desktop\\Magistrale\\ESILV\\Veille et enjeux\\mine-recognition\\VeE Algorithm\\dataset\\test\\images\\IMG_0252_aug_5.tiff: 640x480 1 mine, 76.6ms\n",
      "image 26/92 C:\\Users\\alesa\\Desktop\\Magistrale\\ESILV\\Veille et enjeux\\mine-recognition\\VeE Algorithm\\dataset\\test\\images\\IMG_0252_aug_6.tiff: 640x480 1 mine, 117.5ms\n",
      "image 27/92 C:\\Users\\alesa\\Desktop\\Magistrale\\ESILV\\Veille et enjeux\\mine-recognition\\VeE Algorithm\\dataset\\test\\images\\IMG_0253.tiff: 640x480 1 mine, 77.7ms\n",
      "image 28/92 C:\\Users\\alesa\\Desktop\\Magistrale\\ESILV\\Veille et enjeux\\mine-recognition\\VeE Algorithm\\dataset\\test\\images\\IMG_0253_aug_1.tiff: 640x640 1 mine, 143.3ms\n",
      "image 29/92 C:\\Users\\alesa\\Desktop\\Magistrale\\ESILV\\Veille et enjeux\\mine-recognition\\VeE Algorithm\\dataset\\test\\images\\IMG_0253_aug_3.tiff: 640x480 (no detections), 95.9ms\n",
      "image 30/92 C:\\Users\\alesa\\Desktop\\Magistrale\\ESILV\\Veille et enjeux\\mine-recognition\\VeE Algorithm\\dataset\\test\\images\\IMG_0253_aug_4.tiff: 640x480 1 mine, 91.7ms\n",
      "image 31/92 C:\\Users\\alesa\\Desktop\\Magistrale\\ESILV\\Veille et enjeux\\mine-recognition\\VeE Algorithm\\dataset\\test\\images\\IMG_0253_aug_5.tiff: 640x480 1 mine, 89.3ms\n",
      "image 32/92 C:\\Users\\alesa\\Desktop\\Magistrale\\ESILV\\Veille et enjeux\\mine-recognition\\VeE Algorithm\\dataset\\test\\images\\IMG_0253_aug_6.tiff: 640x480 1 mine, 76.3ms\n",
      "image 33/92 C:\\Users\\alesa\\Desktop\\Magistrale\\ESILV\\Veille et enjeux\\mine-recognition\\VeE Algorithm\\dataset\\test\\images\\IMG_0253_aug_7.tiff: 640x480 1 mine, 85.5ms\n",
      "image 34/92 C:\\Users\\alesa\\Desktop\\Magistrale\\ESILV\\Veille et enjeux\\mine-recognition\\VeE Algorithm\\dataset\\test\\images\\IMG_0254_aug_2.tiff: 640x480 1 mine, 77.6ms\n",
      "image 35/92 C:\\Users\\alesa\\Desktop\\Magistrale\\ESILV\\Veille et enjeux\\mine-recognition\\VeE Algorithm\\dataset\\test\\images\\IMG_0254_aug_4.tiff: 640x480 1 mine, 106.0ms\n",
      "image 36/92 C:\\Users\\alesa\\Desktop\\Magistrale\\ESILV\\Veille et enjeux\\mine-recognition\\VeE Algorithm\\dataset\\test\\images\\IMG_0254_aug_5.tiff: 640x480 (no detections), 76.7ms\n",
      "image 37/92 C:\\Users\\alesa\\Desktop\\Magistrale\\ESILV\\Veille et enjeux\\mine-recognition\\VeE Algorithm\\dataset\\test\\images\\IMG_0254_aug_6.tiff: 640x480 (no detections), 83.0ms\n",
      "image 38/92 C:\\Users\\alesa\\Desktop\\Magistrale\\ESILV\\Veille et enjeux\\mine-recognition\\VeE Algorithm\\dataset\\test\\images\\IMG_0255_aug_2.tiff: 640x480 1 mine, 71.3ms\n",
      "image 39/92 C:\\Users\\alesa\\Desktop\\Magistrale\\ESILV\\Veille et enjeux\\mine-recognition\\VeE Algorithm\\dataset\\test\\images\\IMG_0255_aug_5.tiff: 640x480 1 mine, 102.0ms\n",
      "image 40/92 C:\\Users\\alesa\\Desktop\\Magistrale\\ESILV\\Veille et enjeux\\mine-recognition\\VeE Algorithm\\dataset\\test\\images\\IMG_0256.tiff: 640x320 (no detections), 87.0ms\n",
      "image 41/92 C:\\Users\\alesa\\Desktop\\Magistrale\\ESILV\\Veille et enjeux\\mine-recognition\\VeE Algorithm\\dataset\\test\\images\\IMG_0256_aug_4.tiff: 640x320 (no detections), 63.3ms\n",
      "image 42/92 C:\\Users\\alesa\\Desktop\\Magistrale\\ESILV\\Veille et enjeux\\mine-recognition\\VeE Algorithm\\dataset\\test\\images\\IMG_0256_aug_5.tiff: 640x480 1 mine, 77.3ms\n",
      "image 43/92 C:\\Users\\alesa\\Desktop\\Magistrale\\ESILV\\Veille et enjeux\\mine-recognition\\VeE Algorithm\\dataset\\test\\images\\IMG_0257.tiff: 448x640 (no detections), 87.2ms\n",
      "image 44/92 C:\\Users\\alesa\\Desktop\\Magistrale\\ESILV\\Veille et enjeux\\mine-recognition\\VeE Algorithm\\dataset\\test\\images\\IMG_0257_aug_1.tiff: 640x640 (no detections), 130.6ms\n",
      "image 45/92 C:\\Users\\alesa\\Desktop\\Magistrale\\ESILV\\Veille et enjeux\\mine-recognition\\VeE Algorithm\\dataset\\test\\images\\photo_10_2024-12-29_11-14-58.tiff: 384x640 (no detections), 112.1ms\n",
      "image 46/92 C:\\Users\\alesa\\Desktop\\Magistrale\\ESILV\\Veille et enjeux\\mine-recognition\\VeE Algorithm\\dataset\\test\\images\\photo_10_2024-12-29_11-14-58_aug_4.tiff: 384x640 (no detections), 135.3ms\n",
      "image 47/92 C:\\Users\\alesa\\Desktop\\Magistrale\\ESILV\\Veille et enjeux\\mine-recognition\\VeE Algorithm\\dataset\\test\\images\\photo_11_2024-12-29_11-14-58_aug_3.tiff: 640x480 1 mine, 155.5ms\n",
      "image 48/92 C:\\Users\\alesa\\Desktop\\Magistrale\\ESILV\\Veille et enjeux\\mine-recognition\\VeE Algorithm\\dataset\\test\\images\\photo_11_2024-12-29_11-14-58_aug_4.tiff: 640x480 1 mine, 159.5ms\n",
      "image 49/92 C:\\Users\\alesa\\Desktop\\Magistrale\\ESILV\\Veille et enjeux\\mine-recognition\\VeE Algorithm\\dataset\\test\\images\\photo_12_2024-12-29_11-14-58_aug_1.tiff: 640x640 1 mine, 213.7ms\n",
      "image 50/92 C:\\Users\\alesa\\Desktop\\Magistrale\\ESILV\\Veille et enjeux\\mine-recognition\\VeE Algorithm\\dataset\\test\\images\\photo_12_2024-12-29_11-14-58_aug_4.tiff: 384x640 (no detections), 116.3ms\n",
      "image 51/92 C:\\Users\\alesa\\Desktop\\Magistrale\\ESILV\\Veille et enjeux\\mine-recognition\\VeE Algorithm\\dataset\\test\\images\\photo_12_2024-12-29_11-14-58_aug_6.tiff: 384x640 (no detections), 110.4ms\n",
      "image 52/92 C:\\Users\\alesa\\Desktop\\Magistrale\\ESILV\\Veille et enjeux\\mine-recognition\\VeE Algorithm\\dataset\\test\\images\\photo_13_2024-12-29_11-14-58_aug_3.tiff: 640x384 (no detections), 111.8ms\n",
      "image 53/92 C:\\Users\\alesa\\Desktop\\Magistrale\\ESILV\\Veille et enjeux\\mine-recognition\\VeE Algorithm\\dataset\\test\\images\\photo_13_2024-12-29_11-14-58_aug_4.tiff: 640x480 1 mine, 93.4ms\n",
      "image 54/92 C:\\Users\\alesa\\Desktop\\Magistrale\\ESILV\\Veille et enjeux\\mine-recognition\\VeE Algorithm\\dataset\\test\\images\\photo_14_2024-12-29_11-14-58_aug_1.tiff: 640x640 1 mine, 104.7ms\n",
      "image 55/92 C:\\Users\\alesa\\Desktop\\Magistrale\\ESILV\\Veille et enjeux\\mine-recognition\\VeE Algorithm\\dataset\\test\\images\\photo_14_2024-12-29_11-14-58_aug_3.tiff: 640x480 1 mine, 96.9ms\n",
      "image 56/92 C:\\Users\\alesa\\Desktop\\Magistrale\\ESILV\\Veille et enjeux\\mine-recognition\\VeE Algorithm\\dataset\\test\\images\\photo_15_2024-12-29_11-14-58_aug_7.tiff: 640x480 1 mine, 101.0ms\n",
      "image 57/92 C:\\Users\\alesa\\Desktop\\Magistrale\\ESILV\\Veille et enjeux\\mine-recognition\\VeE Algorithm\\dataset\\test\\images\\photo_16_2024-12-29_11-14-58.tiff: 352x640 (no detections), 98.4ms\n",
      "image 58/92 C:\\Users\\alesa\\Desktop\\Magistrale\\ESILV\\Veille et enjeux\\mine-recognition\\VeE Algorithm\\dataset\\test\\images\\photo_16_2024-12-29_11-14-58_aug_4.tiff: 640x480 1 mine, 103.0ms\n",
      "image 59/92 C:\\Users\\alesa\\Desktop\\Magistrale\\ESILV\\Veille et enjeux\\mine-recognition\\VeE Algorithm\\dataset\\test\\images\\photo_16_2024-12-29_11-14-58_aug_7.tiff: 352x640 (no detections), 96.5ms\n",
      "image 60/92 C:\\Users\\alesa\\Desktop\\Magistrale\\ESILV\\Veille et enjeux\\mine-recognition\\VeE Algorithm\\dataset\\test\\images\\photo_17_2024-12-29_11-14-58.tiff: 640x480 1 mine, 134.7ms\n",
      "image 61/92 C:\\Users\\alesa\\Desktop\\Magistrale\\ESILV\\Veille et enjeux\\mine-recognition\\VeE Algorithm\\dataset\\test\\images\\photo_17_2024-12-29_11-14-58_aug_1.tiff: 640x640 1 mine, 126.4ms\n",
      "image 62/92 C:\\Users\\alesa\\Desktop\\Magistrale\\ESILV\\Veille et enjeux\\mine-recognition\\VeE Algorithm\\dataset\\test\\images\\photo_17_2024-12-29_11-14-58_aug_7.tiff: 640x320 (no detections), 90.2ms\n",
      "image 63/92 C:\\Users\\alesa\\Desktop\\Magistrale\\ESILV\\Veille et enjeux\\mine-recognition\\VeE Algorithm\\dataset\\test\\images\\photo_1_2024-12-29_11-14-58.tiff: 608x640 (no detections), 177.9ms\n",
      "image 64/92 C:\\Users\\alesa\\Desktop\\Magistrale\\ESILV\\Veille et enjeux\\mine-recognition\\VeE Algorithm\\dataset\\test\\images\\photo_2_2024-12-29_11-14-58.tiff: 640x512 (no detections), 276.0ms\n",
      "image 65/92 C:\\Users\\alesa\\Desktop\\Magistrale\\ESILV\\Veille et enjeux\\mine-recognition\\VeE Algorithm\\dataset\\test\\images\\photo_2_2024-12-29_11-14-58_aug_2.tiff: 640x480 1 mine, 122.6ms\n",
      "image 66/92 C:\\Users\\alesa\\Desktop\\Magistrale\\ESILV\\Veille et enjeux\\mine-recognition\\VeE Algorithm\\dataset\\test\\images\\photo_2_2024-12-29_11-14-58_aug_3.tiff: 640x512 (no detections), 100.2ms\n",
      "image 67/92 C:\\Users\\alesa\\Desktop\\Magistrale\\ESILV\\Veille et enjeux\\mine-recognition\\VeE Algorithm\\dataset\\test\\images\\photo_2_2024-12-29_11-14-58_aug_7.tiff: 640x512 (no detections), 105.6ms\n",
      "image 68/92 C:\\Users\\alesa\\Desktop\\Magistrale\\ESILV\\Veille et enjeux\\mine-recognition\\VeE Algorithm\\dataset\\test\\images\\photo_3_2024-12-29_11-14-58_aug_3.tiff: 640x480 1 mine, 124.0ms\n",
      "image 69/92 C:\\Users\\alesa\\Desktop\\Magistrale\\ESILV\\Veille et enjeux\\mine-recognition\\VeE Algorithm\\dataset\\test\\images\\photo_3_2024-12-29_11-14-58_aug_4.tiff: 640x480 1 mine, 136.9ms\n",
      "image 70/92 C:\\Users\\alesa\\Desktop\\Magistrale\\ESILV\\Veille et enjeux\\mine-recognition\\VeE Algorithm\\dataset\\test\\images\\photo_3_2024-12-29_11-14-58_aug_6.tiff: 384x640 (no detections), 107.0ms\n",
      "image 71/92 C:\\Users\\alesa\\Desktop\\Magistrale\\ESILV\\Veille et enjeux\\mine-recognition\\VeE Algorithm\\dataset\\test\\images\\photo_4_2024-12-29_11-14-58.tiff: 640x480 1 mine, 133.6ms\n",
      "image 72/92 C:\\Users\\alesa\\Desktop\\Magistrale\\ESILV\\Veille et enjeux\\mine-recognition\\VeE Algorithm\\dataset\\test\\images\\photo_4_2024-12-29_11-14-58_aug_1.tiff: 640x640 1 mine, 163.8ms\n",
      "image 73/92 C:\\Users\\alesa\\Desktop\\Magistrale\\ESILV\\Veille et enjeux\\mine-recognition\\VeE Algorithm\\dataset\\test\\images\\photo_5_2024-12-29_11-14-58_aug_1.tiff: 640x640 (no detections), 148.2ms\n",
      "image 74/92 C:\\Users\\alesa\\Desktop\\Magistrale\\ESILV\\Veille et enjeux\\mine-recognition\\VeE Algorithm\\dataset\\test\\images\\photo_5_2024-12-29_11-14-58_aug_4.tiff: 640x480 1 mine, 104.0ms\n",
      "image 75/92 C:\\Users\\alesa\\Desktop\\Magistrale\\ESILV\\Veille et enjeux\\mine-recognition\\VeE Algorithm\\dataset\\test\\images\\photo_5_2024-12-29_11-14-58_aug_6.tiff: 640x480 1 mine, 98.6ms\n",
      "image 76/92 C:\\Users\\alesa\\Desktop\\Magistrale\\ESILV\\Veille et enjeux\\mine-recognition\\VeE Algorithm\\dataset\\test\\images\\photo_6_2024-12-29_11-14-58_aug_1.tiff: 640x640 1 mine, 125.8ms\n",
      "image 77/92 C:\\Users\\alesa\\Desktop\\Magistrale\\ESILV\\Veille et enjeux\\mine-recognition\\VeE Algorithm\\dataset\\test\\images\\photo_6_2024-12-29_11-14-58_aug_2.tiff: 640x352 (no detections), 98.8ms\n",
      "image 78/92 C:\\Users\\alesa\\Desktop\\Magistrale\\ESILV\\Veille et enjeux\\mine-recognition\\VeE Algorithm\\dataset\\test\\images\\photo_6_2024-12-29_11-14-58_aug_3.tiff: 640x480 1 mine, 101.3ms\n",
      "image 79/92 C:\\Users\\alesa\\Desktop\\Magistrale\\ESILV\\Veille et enjeux\\mine-recognition\\VeE Algorithm\\dataset\\test\\images\\photo_6_2024-12-29_11-14-58_aug_4.tiff: 640x352 (no detections), 101.3ms\n",
      "image 80/92 C:\\Users\\alesa\\Desktop\\Magistrale\\ESILV\\Veille et enjeux\\mine-recognition\\VeE Algorithm\\dataset\\test\\images\\photo_6_2024-12-29_11-14-58_aug_7.tiff: 640x480 1 mine, 116.7ms\n",
      "image 81/92 C:\\Users\\alesa\\Desktop\\Magistrale\\ESILV\\Veille et enjeux\\mine-recognition\\VeE Algorithm\\dataset\\test\\images\\photo_7_2024-12-29_11-14-58_aug_5.tiff: 640x480 1 mine, 99.9ms\n",
      "image 82/92 C:\\Users\\alesa\\Desktop\\Magistrale\\ESILV\\Veille et enjeux\\mine-recognition\\VeE Algorithm\\dataset\\test\\images\\photo_7_2024-12-29_11-14-58_aug_6.tiff: 640x480 1 mine, 98.9ms\n",
      "image 83/92 C:\\Users\\alesa\\Desktop\\Magistrale\\ESILV\\Veille et enjeux\\mine-recognition\\VeE Algorithm\\dataset\\test\\images\\photo_7_2024-12-29_11-14-58_aug_7.tiff: 448x640 (no detections), 92.3ms\n",
      "image 84/92 C:\\Users\\alesa\\Desktop\\Magistrale\\ESILV\\Veille et enjeux\\mine-recognition\\VeE Algorithm\\dataset\\test\\images\\photo_8_2024-12-29_11-14-58_aug_1.tiff: 640x640 (no detections), 130.8ms\n",
      "image 85/92 C:\\Users\\alesa\\Desktop\\Magistrale\\ESILV\\Veille et enjeux\\mine-recognition\\VeE Algorithm\\dataset\\test\\images\\photo_8_2024-12-29_11-14-58_aug_4.tiff: 640x480 1 mine, 172.5ms\n",
      "image 86/92 C:\\Users\\alesa\\Desktop\\Magistrale\\ESILV\\Veille et enjeux\\mine-recognition\\VeE Algorithm\\dataset\\test\\images\\photo_8_2024-12-29_11-14-58_aug_5.tiff: 416x640 (no detections), 106.7ms\n",
      "image 87/92 C:\\Users\\alesa\\Desktop\\Magistrale\\ESILV\\Veille et enjeux\\mine-recognition\\VeE Algorithm\\dataset\\test\\images\\photo_8_2024-12-29_11-14-58_aug_6.tiff: 416x640 (no detections), 101.4ms\n",
      "image 88/92 C:\\Users\\alesa\\Desktop\\Magistrale\\ESILV\\Veille et enjeux\\mine-recognition\\VeE Algorithm\\dataset\\test\\images\\photo_8_2024-12-29_11-14-58_aug_7.tiff: 416x640 (no detections), 109.4ms\n",
      "image 89/92 C:\\Users\\alesa\\Desktop\\Magistrale\\ESILV\\Veille et enjeux\\mine-recognition\\VeE Algorithm\\dataset\\test\\images\\photo_9_2024-12-29_11-14-58_aug_1.tiff: 640x640 1 mine, 130.9ms\n",
      "image 90/92 C:\\Users\\alesa\\Desktop\\Magistrale\\ESILV\\Veille et enjeux\\mine-recognition\\VeE Algorithm\\dataset\\test\\images\\photo_9_2024-12-29_11-14-58_aug_2.tiff: 640x480 1 mine, 119.9ms\n",
      "image 91/92 C:\\Users\\alesa\\Desktop\\Magistrale\\ESILV\\Veille et enjeux\\mine-recognition\\VeE Algorithm\\dataset\\test\\images\\photo_9_2024-12-29_11-14-58_aug_3.tiff: 320x640 (no detections), 91.2ms\n",
      "image 92/92 C:\\Users\\alesa\\Desktop\\Magistrale\\ESILV\\Veille et enjeux\\mine-recognition\\VeE Algorithm\\dataset\\test\\images\\photo_9_2024-12-29_11-14-58_aug_5.tiff: 640x480 1 mine, 104.1ms\n",
      "Speed: 5.1ms preprocess, 107.0ms inference, 1.2ms postprocess per image at shape (1, 3, 640, 480)\n",
      "Results saved to \u001B[1mC:\\Users\\alesa\\runs\\detect\\predict11\u001B[0m\n",
      "Testing completed. Results saved.\n"
     ]
    }
   ],
   "source": [
    "# 3.3 Use of YOLO model: Model testing\n",
    "test_results = test_model(\"dataset/results/run1/weights/best.pt\", \"dataset\")"
   ]
  },
  {
   "cell_type": "code",
   "execution_count": 4,
   "metadata": {
    "collapsed": false,
    "pycharm": {
     "name": "#%%\n"
    }
   },
   "outputs": [
    {
     "name": "stdout",
     "output_type": "stream",
     "text": [
      "Evaluation Metrics and Details saved to result.json\n"
     ]
    },
    {
     "name": "stderr",
     "output_type": "stream",
     "text": [
      "C:\\Users\\alesa\\anaconda3\\Lib\\site-packages\\osgeo\\gdal.py:312: FutureWarning: Neither gdal.UseExceptions() nor gdal.DontUseExceptions() has been explicitly called. In GDAL 4.0, exceptions will be enabled by default.\n",
      "  warnings.warn(\n"
     ]
    }
   ],
   "source": [
    "# 4. Verification of model's performance\n",
    "evaluation = model_evaluation(test_results, \"dataset\")"
   ]
  },
  {
   "cell_type": "code",
   "execution_count": 5,
   "metadata": {
    "collapsed": false,
    "pycharm": {
     "name": "#%%\n"
    }
   },
   "outputs": [
    {
     "name": "stdout",
     "output_type": "stream",
     "text": [
      "Model Performance Metrics:\n",
      "Precision: 1.00\n",
      "Recall: 1.00\n",
      "F1-Score: 1.00\n",
      "\n",
      "Confusion Matrix:\n",
      "[[39  0]\n",
      " [ 0 53]]\n",
      "\n",
      "Detection Probability Statistics:\n",
      "Mean Probability: 87.02\n",
      "Max Probability: 93.43\n",
      "Min Probability: 69.89\n",
      "\n",
      "Map with detected mines saved to detected_mines_map.html\n"
     ]
    }
   ],
   "source": [
    "analyze_results(\"result.json\")\n",
    "visualize_detected_mines(\"result.json\", \"detected_mines_map.html\")"
   ]
  },
  {
   "cell_type": "code",
   "execution_count": null,
   "outputs": [],
   "source": [],
   "metadata": {
    "collapsed": false,
    "pycharm": {
     "name": "#%%\n"
    }
   }
  }
 ],
 "metadata": {
  "kernelspec": {
   "display_name": "Python 3",
   "language": "python",
   "name": "python3"
  },
  "language_info": {
   "codemirror_mode": {
    "name": "ipython",
    "version": 3
   },
   "file_extension": ".py",
   "mimetype": "text/x-python",
   "name": "python",
   "nbconvert_exporter": "python",
   "pygments_lexer": "ipython3",
   "version": "3.12.4"
  }
 },
 "nbformat": 4,
 "nbformat_minor": 0
}