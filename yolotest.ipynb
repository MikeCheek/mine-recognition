{
 "cells": [
  {
   "cell_type": "code",
   "execution_count": 7,
   "metadata": {
    "collapsed": true
   },
   "outputs": [],
   "source": [
    "# Install necessary libraries\n",
    "!pip install ultralytics -q"
   ]
  },
  {
   "cell_type": "code",
   "execution_count": 8,
   "metadata": {
    "collapsed": false,
    "pycharm": {
     "name": "#%%\n"
    }
   },
   "outputs": [
    {
     "ename": "KeyboardInterrupt",
     "evalue": "",
     "output_type": "error",
     "traceback": [
      "\u001b[1;31m---------------------------------------------------------------------------\u001b[0m",
      "\u001b[1;31mKeyboardInterrupt\u001b[0m                         Traceback (most recent call last)",
      "Cell \u001b[1;32mIn[8], line 44\u001b[0m\n\u001b[0;32m     41\u001b[0m     \u001b[38;5;28;01mreturn\u001b[39;00m train, val, test\n\u001b[0;32m     43\u001b[0m \u001b[38;5;66;03m# Split \"true\" and \"false\" images into train/val/test\u001b[39;00m\n\u001b[1;32m---> 44\u001b[0m true_train, true_val, true_test \u001b[38;5;241m=\u001b[39m \u001b[43msplit_and_copy\u001b[49m\u001b[43m(\u001b[49m\u001b[43mtrue_path\u001b[49m\u001b[43m,\u001b[49m\u001b[43m \u001b[49m\u001b[43mimages_path\u001b[49m\u001b[43m)\u001b[49m\n\u001b[0;32m     45\u001b[0m false_train, false_val, false_test \u001b[38;5;241m=\u001b[39m split_and_copy(false_path, images_path)\n\u001b[0;32m     47\u001b[0m \u001b[38;5;66;03m# Generate bounding box labels for \"true\" images\u001b[39;00m\n",
      "Cell \u001b[1;32mIn[8], line 40\u001b[0m, in \u001b[0;36msplit_and_copy\u001b[1;34m(src_folder, dst_folder, split_ratios)\u001b[0m\n\u001b[0;32m     38\u001b[0m         dst \u001b[38;5;241m=\u001b[39m os\u001b[38;5;241m.\u001b[39mpath\u001b[38;5;241m.\u001b[39mjoin(dst_folder, split_name, image)\n\u001b[0;32m     39\u001b[0m         os\u001b[38;5;241m.\u001b[39mmakedirs(os\u001b[38;5;241m.\u001b[39mpath\u001b[38;5;241m.\u001b[39mdirname(dst), exist_ok\u001b[38;5;241m=\u001b[39m\u001b[38;5;28;01mTrue\u001b[39;00m)\n\u001b[1;32m---> 40\u001b[0m         cv2\u001b[38;5;241m.\u001b[39mimwrite(dst, \u001b[43mcv2\u001b[49m\u001b[38;5;241;43m.\u001b[39;49m\u001b[43mimread\u001b[49m\u001b[43m(\u001b[49m\u001b[43msrc\u001b[49m\u001b[43m)\u001b[49m)\n\u001b[0;32m     41\u001b[0m \u001b[38;5;28;01mreturn\u001b[39;00m train, val, test\n",
      "File \u001b[1;32mc:\\Users\\miche\\Documents\\Erasmus\\DeVinci\\Veille et enjeux\\mine-recognition\\Lib\\site-packages\\ultralytics\\utils\\patches.py:26\u001b[0m, in \u001b[0;36mimread\u001b[1;34m(filename, flags)\u001b[0m\n\u001b[0;32m     15\u001b[0m \u001b[38;5;28;01mdef\u001b[39;00m \u001b[38;5;21mimread\u001b[39m(filename: \u001b[38;5;28mstr\u001b[39m, flags: \u001b[38;5;28mint\u001b[39m \u001b[38;5;241m=\u001b[39m cv2\u001b[38;5;241m.\u001b[39mIMREAD_COLOR):\n\u001b[0;32m     16\u001b[0m \u001b[38;5;250m    \u001b[39m\u001b[38;5;124;03m\"\"\"\u001b[39;00m\n\u001b[0;32m     17\u001b[0m \u001b[38;5;124;03m    Read an image from a file.\u001b[39;00m\n\u001b[0;32m     18\u001b[0m \n\u001b[1;32m   (...)\u001b[0m\n\u001b[0;32m     24\u001b[0m \u001b[38;5;124;03m        (np.ndarray): The read image.\u001b[39;00m\n\u001b[0;32m     25\u001b[0m \u001b[38;5;124;03m    \"\"\"\u001b[39;00m\n\u001b[1;32m---> 26\u001b[0m     \u001b[38;5;28;01mreturn\u001b[39;00m \u001b[43mcv2\u001b[49m\u001b[38;5;241;43m.\u001b[39;49m\u001b[43mimdecode\u001b[49m\u001b[43m(\u001b[49m\u001b[43mnp\u001b[49m\u001b[38;5;241;43m.\u001b[39;49m\u001b[43mfromfile\u001b[49m\u001b[43m(\u001b[49m\u001b[43mfilename\u001b[49m\u001b[43m,\u001b[49m\u001b[43m \u001b[49m\u001b[43mnp\u001b[49m\u001b[38;5;241;43m.\u001b[39;49m\u001b[43muint8\u001b[49m\u001b[43m)\u001b[49m\u001b[43m,\u001b[49m\u001b[43m \u001b[49m\u001b[43mflags\u001b[49m\u001b[43m)\u001b[49m\n",
      "\u001b[1;31mKeyboardInterrupt\u001b[0m: "
     ]
    }
   ],
   "source": [
    "import os\n",
    "import cv2\n",
    "import numpy as np\n",
    "\n",
    "# Define paths\n",
    "base_path = \"images\"  # Your dataset folder\n",
    "true_path = os.path.join(base_path, \"true\")\n",
    "false_path = os.path.join(base_path, \"false\")\n",
    "output_path = \"dataset\"\n",
    "labels_path = os.path.join(output_path, \"labels\")\n",
    "images_path = os.path.join(output_path, \"images\")\n",
    "\n",
    "# Create YOLO folder structure\n",
    "folders = [\n",
    "    os.path.join(images_path, \"train\"),\n",
    "    os.path.join(images_path, \"val\"),\n",
    "    os.path.join(images_path, \"test\"),\n",
    "    os.path.join(labels_path, \"train\"),\n",
    "    os.path.join(labels_path, \"val\"),\n",
    "    os.path.join(labels_path, \"test\"),\n",
    "]\n",
    "for folder in folders:\n",
    "    os.makedirs(folder, exist_ok=True)\n",
    "\n",
    "# Function to split data into train/val/test\n",
    "import random\n",
    "def split_and_copy(src_folder, dst_folder, split_ratios=(0.7, 0.2, 0.1)):\n",
    "    images = [f for f in os.listdir(src_folder) if f.endswith((\".jpg\", \".png\", \".jpeg\"))]\n",
    "    random.shuffle(images)\n",
    "    n_train = int(len(images) * split_ratios[0])\n",
    "    n_val = int(len(images) * split_ratios[1])\n",
    "\n",
    "    train, val, test = images[:n_train], images[n_train:n_train + n_val], images[n_train + n_val:]\n",
    "\n",
    "    for split, split_name in zip([train, val, test], [\"train\", \"val\", \"test\"]):\n",
    "        for image in split:\n",
    "            src = os.path.join(src_folder, image)\n",
    "            dst = os.path.join(dst_folder, split_name, image)\n",
    "            os.makedirs(os.path.dirname(dst), exist_ok=True)\n",
    "            cv2.imwrite(dst, cv2.imread(src))\n",
    "    return train, val, test\n",
    "\n",
    "# Split \"true\" and \"false\" images into train/val/test\n",
    "true_train, true_val, true_test = split_and_copy(true_path, images_path)\n",
    "false_train, false_val, false_test = split_and_copy(false_path, images_path)\n",
    "\n",
    "# Generate bounding box labels for \"true\" images\n",
    "def generate_true_labels(image_list, image_folder, output_folder, class_id=0):\n",
    "    for image_name in image_list:\n",
    "        image_path = os.path.join(image_folder, image_name)\n",
    "        label_file = os.path.splitext(image_name)[0] + \".txt\"\n",
    "        label_path = os.path.join(output_folder, label_file)\n",
    "\n",
    "        image = cv2.imread(image_path)\n",
    "        height, width, _ = image.shape\n",
    "\n",
    "        # Default bounding box (centered, covers a large portion of the image)\n",
    "        x_center = 0.5\n",
    "        y_center = 0.5\n",
    "        box_width = 0.5\n",
    "        box_height = 0.5\n",
    "\n",
    "        # Save bounding box\n",
    "        with open(label_path, \"w\") as f:\n",
    "            f.write(f\"{class_id} {x_center} {y_center} {box_width} {box_height}\\n\")\n",
    "\n",
    "# Generate empty labels for \"false\" images\n",
    "def generate_false_labels(image_list, output_folder):\n",
    "    for image_name in image_list:\n",
    "        label_file = os.path.splitext(image_name)[0] + \".txt\"\n",
    "        label_path = os.path.join(output_folder, label_file)\n",
    "        open(label_path, \"w\").close()  # Create an empty file\n",
    "\n",
    "# Generate labels for train/val/test splits\n",
    "generate_true_labels(true_train, os.path.join(images_path, \"train\"), os.path.join(labels_path, \"train\"))\n",
    "generate_true_labels(true_val, os.path.join(images_path, \"val\"), os.path.join(labels_path, \"val\"))\n",
    "generate_true_labels(true_test, os.path.join(images_path, \"test\"), os.path.join(labels_path, \"test\"))\n",
    "\n",
    "generate_false_labels(false_train, os.path.join(labels_path, \"train\"))\n",
    "generate_false_labels(false_val, os.path.join(labels_path, \"val\"))\n",
    "generate_false_labels(false_test, os.path.join(labels_path, \"test\"))\n",
    "\n",
    "print(\"Dataset processing complete!\")"
   ]
  },
  {
   "cell_type": "code",
   "execution_count": null,
   "metadata": {
    "collapsed": false,
    "pycharm": {
     "name": "#%%\n"
    }
   },
   "outputs": [
    {
     "name": "stdout",
     "output_type": "stream",
     "text": [
      "data.yaml created!\n"
     ]
    }
   ],
   "source": [
    "# Create the dataset YAML file\n",
    "data_yaml = f\"\"\"\n",
    "train: {os.path.abspath(os.path.join(images_path, 'train'))}\n",
    "val: {os.path.abspath(os.path.join(images_path, 'val'))}\n",
    "\n",
    "nc: 1\n",
    "names: ['mine']\n",
    "\"\"\"\n",
    "\n",
    "with open(\"data.yaml\", \"w\") as f:\n",
    "    f.write(data_yaml)\n",
    "\n",
    "print(\"data.yaml created!\")"
   ]
  },
  {
   "cell_type": "code",
   "execution_count": 9,
   "metadata": {
    "collapsed": false,
    "pycharm": {
     "name": "#%%\n"
    }
   },
   "outputs": [
    {
     "name": "stdout",
     "output_type": "stream",
     "text": [
      "Ultralytics 8.3.40  Python-3.12.3 torch-2.5.1+cu118 CUDA:0 (NVIDIA GeForce RTX 4050 Laptop GPU, 6140MiB)\n",
      "\u001b[34m\u001b[1mengine\\trainer: \u001b[0mtask=detect, mode=train, model=yolov8n.pt, data=data.yaml, epochs=10, time=None, patience=100, batch=16, imgsz=416, save=True, save_period=-1, cache=False, device=0, workers=8, project=results, name=train_run, exist_ok=True, pretrained=True, optimizer=auto, verbose=True, seed=0, deterministic=True, single_cls=False, rect=False, cos_lr=False, close_mosaic=10, resume=False, amp=True, fraction=1.0, profile=False, freeze=None, multi_scale=False, overlap_mask=True, mask_ratio=4, dropout=0.0, val=True, split=val, save_json=False, save_hybrid=False, conf=None, iou=0.7, max_det=300, half=False, dnn=False, plots=True, source=None, vid_stride=1, stream_buffer=False, visualize=False, augment=False, agnostic_nms=False, classes=None, retina_masks=False, embed=None, show=False, save_frames=False, save_txt=False, save_conf=False, save_crop=False, show_labels=True, show_conf=True, show_boxes=True, line_width=None, format=torchscript, keras=False, optimize=False, int8=False, dynamic=False, simplify=True, opset=None, workspace=None, nms=False, lr0=0.01, lrf=0.01, momentum=0.937, weight_decay=0.0005, warmup_epochs=3.0, warmup_momentum=0.8, warmup_bias_lr=0.1, box=7.5, cls=0.5, dfl=1.5, pose=12.0, kobj=1.0, nbs=64, hsv_h=0.015, hsv_s=0.7, hsv_v=0.4, degrees=0.0, translate=0.1, scale=0.5, shear=0.0, perspective=0.0, flipud=0.0, fliplr=0.5, bgr=0.0, mosaic=1.0, mixup=0.0, copy_paste=0.0, copy_paste_mode=flip, auto_augment=randaugment, erasing=0.4, crop_fraction=1.0, cfg=None, tracker=botsort.yaml, save_dir=results\\train_run\n",
      "Overriding model.yaml nc=80 with nc=1\n",
      "\n",
      "                   from  n    params  module                                       arguments                     \n",
      "  0                  -1  1       464  ultralytics.nn.modules.conv.Conv             [3, 16, 3, 2]                 \n",
      "  1                  -1  1      4672  ultralytics.nn.modules.conv.Conv             [16, 32, 3, 2]                \n",
      "  2                  -1  1      7360  ultralytics.nn.modules.block.C2f             [32, 32, 1, True]             \n",
      "  3                  -1  1     18560  ultralytics.nn.modules.conv.Conv             [32, 64, 3, 2]                \n",
      "  4                  -1  2     49664  ultralytics.nn.modules.block.C2f             [64, 64, 2, True]             \n",
      "  5                  -1  1     73984  ultralytics.nn.modules.conv.Conv             [64, 128, 3, 2]               \n",
      "  6                  -1  2    197632  ultralytics.nn.modules.block.C2f             [128, 128, 2, True]           \n",
      "  7                  -1  1    295424  ultralytics.nn.modules.conv.Conv             [128, 256, 3, 2]              \n",
      "  8                  -1  1    460288  ultralytics.nn.modules.block.C2f             [256, 256, 1, True]           \n",
      "  9                  -1  1    164608  ultralytics.nn.modules.block.SPPF            [256, 256, 5]                 \n",
      " 10                  -1  1         0  torch.nn.modules.upsampling.Upsample         [None, 2, 'nearest']          \n",
      " 11             [-1, 6]  1         0  ultralytics.nn.modules.conv.Concat           [1]                           \n",
      " 12                  -1  1    148224  ultralytics.nn.modules.block.C2f             [384, 128, 1]                 \n",
      " 13                  -1  1         0  torch.nn.modules.upsampling.Upsample         [None, 2, 'nearest']          \n",
      " 14             [-1, 4]  1         0  ultralytics.nn.modules.conv.Concat           [1]                           \n",
      " 15                  -1  1     37248  ultralytics.nn.modules.block.C2f             [192, 64, 1]                  \n",
      " 16                  -1  1     36992  ultralytics.nn.modules.conv.Conv             [64, 64, 3, 2]                \n",
      " 17            [-1, 12]  1         0  ultralytics.nn.modules.conv.Concat           [1]                           \n",
      " 18                  -1  1    123648  ultralytics.nn.modules.block.C2f             [192, 128, 1]                 \n",
      " 19                  -1  1    147712  ultralytics.nn.modules.conv.Conv             [128, 128, 3, 2]              \n",
      " 20             [-1, 9]  1         0  ultralytics.nn.modules.conv.Concat           [1]                           \n",
      " 21                  -1  1    493056  ultralytics.nn.modules.block.C2f             [384, 256, 1]                 \n",
      " 22        [15, 18, 21]  1    751507  ultralytics.nn.modules.head.Detect           [1, [64, 128, 256]]           \n",
      "Model summary: 225 layers, 3,011,043 parameters, 3,011,027 gradients, 8.2 GFLOPs\n",
      "\n",
      "Transferred 319/355 items from pretrained weights\n",
      "Freezing layer 'model.22.dfl.conv.weight'\n",
      "\u001b[34m\u001b[1mAMP: \u001b[0mrunning Automatic Mixed Precision (AMP) checks...\n",
      "\u001b[34m\u001b[1mAMP: \u001b[0mchecks passed \n"
     ]
    },
    {
     "name": "stderr",
     "output_type": "stream",
     "text": [
      "\u001b[34m\u001b[1mtrain: \u001b[0mScanning C:\\Users\\miche\\Documents\\Erasmus\\DeVinci\\Veille et enjeux\\mine-recognition\\dataset\\labels\\train... 382 images, 179 backgrounds, 0 corrupt: 100%|██████████| 400/400 [00:02<00:00, 154.81it/s]"
     ]
    },
    {
     "name": "stdout",
     "output_type": "stream",
     "text": [
      "\u001b[34m\u001b[1mtrain: \u001b[0mNew cache created: C:\\Users\\miche\\Documents\\Erasmus\\DeVinci\\Veille et enjeux\\mine-recognition\\dataset\\labels\\train.cache\n"
     ]
    },
    {
     "name": "stderr",
     "output_type": "stream",
     "text": [
      "\n",
      "\u001b[34m\u001b[1mval: \u001b[0mScanning C:\\Users\\miche\\Documents\\Erasmus\\DeVinci\\Veille et enjeux\\mine-recognition\\dataset\\labels\\val.cache... 109 images, 46 backgrounds, 0 corrupt: 100%|██████████| 109/109 [00:00<?, ?it/s]\n"
     ]
    },
    {
     "name": "stdout",
     "output_type": "stream",
     "text": [
      "Plotting labels to results\\train_run\\labels.jpg... \n"
     ]
    },
    {
     "name": "stderr",
     "output_type": "stream",
     "text": [
      "Exception ignored in: <function _MultiProcessingDataLoaderIter.__del__ at 0x000002341D466B60>\n",
      "Traceback (most recent call last):\n",
      "  File \"c:\\Users\\miche\\Documents\\Erasmus\\DeVinci\\Veille et enjeux\\mine-recognition\\Lib\\site-packages\\torch\\utils\\data\\dataloader.py\", line 1604, in __del__\n",
      "    self._shutdown_workers()\n",
      "  File \"c:\\Users\\miche\\Documents\\Erasmus\\DeVinci\\Veille et enjeux\\mine-recognition\\Lib\\site-packages\\torch\\utils\\data\\dataloader.py\", line 1562, in _shutdown_workers\n",
      "    if self._persistent_workers or self._workers_status[worker_id]:\n",
      "                                   ^^^^^^^^^^^^^^^^^^^^\n",
      "AttributeError: '_MultiProcessingDataLoaderIter' object has no attribute '_workers_status'\n"
     ]
    },
    {
     "name": "stdout",
     "output_type": "stream",
     "text": [
      "\u001b[34m\u001b[1moptimizer:\u001b[0m 'optimizer=auto' found, ignoring 'lr0=0.01' and 'momentum=0.937' and determining best 'optimizer', 'lr0' and 'momentum' automatically... \n",
      "\u001b[34m\u001b[1moptimizer:\u001b[0m AdamW(lr=0.002, momentum=0.9) with parameter groups 57 weight(decay=0.0), 64 weight(decay=0.0005), 63 bias(decay=0.0)\n",
      "Image sizes 416 train, 416 val\n",
      "Using 8 dataloader workers\n",
      "Logging results to \u001b[1mresults\\train_run\u001b[0m\n",
      "Starting training for 10 epochs...\n",
      "Closing dataloader mosaic\n",
      "\n",
      "      Epoch    GPU_mem   box_loss   cls_loss   dfl_loss  Instances       Size\n"
     ]
    },
    {
     "name": "stderr",
     "output_type": "stream",
     "text": [
      "       1/10     0.977G      2.679      4.227      2.653          9        416: 100%|██████████| 25/25 [00:12<00:00,  1.96it/s]\n",
      "                 Class     Images  Instances      Box(P          R      mAP50  mAP50-95): 100%|██████████| 4/4 [00:00<00:00,  5.58it/s]"
     ]
    },
    {
     "name": "stdout",
     "output_type": "stream",
     "text": [
      "                   all        109         63    0.00249          1      0.848      0.446\n"
     ]
    },
    {
     "name": "stderr",
     "output_type": "stream",
     "text": [
      "\n"
     ]
    },
    {
     "name": "stdout",
     "output_type": "stream",
     "text": [
      "\n",
      "      Epoch    GPU_mem   box_loss   cls_loss   dfl_loss  Instances       Size\n"
     ]
    },
    {
     "name": "stderr",
     "output_type": "stream",
     "text": [
      "       2/10     0.984G      1.602       2.53      1.423          8        416: 100%|██████████| 25/25 [00:03<00:00,  7.67it/s]\n",
      "                 Class     Images  Instances      Box(P          R      mAP50  mAP50-95): 100%|██████████| 4/4 [00:00<00:00,  7.43it/s]"
     ]
    },
    {
     "name": "stdout",
     "output_type": "stream",
     "text": [
      "                   all        109         63      0.436      0.714       0.59        0.3\n"
     ]
    },
    {
     "name": "stderr",
     "output_type": "stream",
     "text": [
      "\n"
     ]
    },
    {
     "name": "stdout",
     "output_type": "stream",
     "text": [
      "\n",
      "      Epoch    GPU_mem   box_loss   cls_loss   dfl_loss  Instances       Size\n"
     ]
    },
    {
     "name": "stderr",
     "output_type": "stream",
     "text": [
      "       3/10     0.998G      1.353      2.099      1.258          7        416: 100%|██████████| 25/25 [00:03<00:00,  8.03it/s]\n",
      "                 Class     Images  Instances      Box(P          R      mAP50  mAP50-95): 100%|██████████| 4/4 [00:00<00:00,  8.16it/s]"
     ]
    },
    {
     "name": "stdout",
     "output_type": "stream",
     "text": [
      "                   all        109         63      0.934      0.937      0.978      0.569\n"
     ]
    },
    {
     "name": "stderr",
     "output_type": "stream",
     "text": [
      "\n"
     ]
    },
    {
     "name": "stdout",
     "output_type": "stream",
     "text": [
      "\n",
      "      Epoch    GPU_mem   box_loss   cls_loss   dfl_loss  Instances       Size\n"
     ]
    },
    {
     "name": "stderr",
     "output_type": "stream",
     "text": [
      "       4/10     0.984G      1.224      1.625      1.155          9        416: 100%|██████████| 25/25 [00:03<00:00,  7.75it/s]\n",
      "                 Class     Images  Instances      Box(P          R      mAP50  mAP50-95): 100%|██████████| 4/4 [00:00<00:00,  8.11it/s]"
     ]
    },
    {
     "name": "stdout",
     "output_type": "stream",
     "text": [
      "                   all        109         63      0.983      0.901      0.978      0.581\n"
     ]
    },
    {
     "name": "stderr",
     "output_type": "stream",
     "text": [
      "\n"
     ]
    },
    {
     "name": "stdout",
     "output_type": "stream",
     "text": [
      "\n",
      "      Epoch    GPU_mem   box_loss   cls_loss   dfl_loss  Instances       Size\n"
     ]
    },
    {
     "name": "stderr",
     "output_type": "stream",
     "text": [
      "       5/10     0.984G      1.059      1.386      1.077         10        416: 100%|██████████| 25/25 [00:03<00:00,  8.08it/s]\n",
      "                 Class     Images  Instances      Box(P          R      mAP50  mAP50-95): 100%|██████████| 4/4 [00:00<00:00,  7.10it/s]"
     ]
    },
    {
     "name": "stdout",
     "output_type": "stream",
     "text": [
      "                   all        109         63      0.897      0.967      0.981      0.684\n"
     ]
    },
    {
     "name": "stderr",
     "output_type": "stream",
     "text": [
      "\n"
     ]
    },
    {
     "name": "stdout",
     "output_type": "stream",
     "text": [
      "\n",
      "      Epoch    GPU_mem   box_loss   cls_loss   dfl_loss  Instances       Size\n"
     ]
    },
    {
     "name": "stderr",
     "output_type": "stream",
     "text": [
      "       6/10     0.998G     0.8291      1.139     0.9677         12        416: 100%|██████████| 25/25 [00:03<00:00,  7.69it/s]\n",
      "                 Class     Images  Instances      Box(P          R      mAP50  mAP50-95): 100%|██████████| 4/4 [00:00<00:00,  7.90it/s]"
     ]
    },
    {
     "name": "stdout",
     "output_type": "stream",
     "text": [
      "                   all        109         63      0.944      0.952      0.969      0.769\n"
     ]
    },
    {
     "name": "stderr",
     "output_type": "stream",
     "text": [
      "\n"
     ]
    },
    {
     "name": "stdout",
     "output_type": "stream",
     "text": [
      "\n",
      "      Epoch    GPU_mem   box_loss   cls_loss   dfl_loss  Instances       Size\n"
     ]
    },
    {
     "name": "stderr",
     "output_type": "stream",
     "text": [
      "       7/10     0.998G     0.7843     0.9921     0.9775         10        416: 100%|██████████| 25/25 [00:03<00:00,  7.71it/s]\n",
      "                 Class     Images  Instances      Box(P          R      mAP50  mAP50-95): 100%|██████████| 4/4 [00:00<00:00,  7.28it/s]"
     ]
    },
    {
     "name": "stdout",
     "output_type": "stream",
     "text": [
      "                   all        109         63      0.999          1      0.995      0.784\n"
     ]
    },
    {
     "name": "stderr",
     "output_type": "stream",
     "text": [
      "\n"
     ]
    },
    {
     "name": "stdout",
     "output_type": "stream",
     "text": [
      "\n",
      "      Epoch    GPU_mem   box_loss   cls_loss   dfl_loss  Instances       Size\n"
     ]
    },
    {
     "name": "stderr",
     "output_type": "stream",
     "text": [
      "       8/10     0.998G      0.712     0.9192     0.9609         13        416: 100%|██████████| 25/25 [00:03<00:00,  7.52it/s]\n",
      "                 Class     Images  Instances      Box(P          R      mAP50  mAP50-95): 100%|██████████| 4/4 [00:00<00:00,  7.64it/s]"
     ]
    },
    {
     "name": "stdout",
     "output_type": "stream",
     "text": [
      "                   all        109         63          1      0.999      0.995      0.758\n"
     ]
    },
    {
     "name": "stderr",
     "output_type": "stream",
     "text": [
      "\n"
     ]
    },
    {
     "name": "stdout",
     "output_type": "stream",
     "text": [
      "\n",
      "      Epoch    GPU_mem   box_loss   cls_loss   dfl_loss  Instances       Size\n"
     ]
    },
    {
     "name": "stderr",
     "output_type": "stream",
     "text": [
      "       9/10     0.984G     0.6348     0.8445     0.9317          8        416: 100%|██████████| 25/25 [00:03<00:00,  8.02it/s]\n",
      "                 Class     Images  Instances      Box(P          R      mAP50  mAP50-95): 100%|██████████| 4/4 [00:00<00:00,  7.49it/s]"
     ]
    },
    {
     "name": "stdout",
     "output_type": "stream",
     "text": [
      "                   all        109         63          1      0.999      0.995      0.848\n"
     ]
    },
    {
     "name": "stderr",
     "output_type": "stream",
     "text": [
      "\n"
     ]
    },
    {
     "name": "stdout",
     "output_type": "stream",
     "text": [
      "\n",
      "      Epoch    GPU_mem   box_loss   cls_loss   dfl_loss  Instances       Size\n"
     ]
    },
    {
     "name": "stderr",
     "output_type": "stream",
     "text": [
      "      10/10     0.998G     0.5778     0.8208      0.924         11        416: 100%|██████████| 25/25 [00:03<00:00,  8.11it/s]\n",
      "                 Class     Images  Instances      Box(P          R      mAP50  mAP50-95): 100%|██████████| 4/4 [00:00<00:00,  7.89it/s]"
     ]
    },
    {
     "name": "stdout",
     "output_type": "stream",
     "text": [
      "                   all        109         63          1      0.999      0.995       0.97\n"
     ]
    },
    {
     "name": "stderr",
     "output_type": "stream",
     "text": [
      "\n"
     ]
    },
    {
     "name": "stdout",
     "output_type": "stream",
     "text": [
      "\n",
      "10 epochs completed in 0.028 hours.\n",
      "Optimizer stripped from results\\train_run\\weights\\last.pt, 6.2MB\n",
      "Optimizer stripped from results\\train_run\\weights\\best.pt, 6.2MB\n",
      "\n",
      "Validating results\\train_run\\weights\\best.pt...\n",
      "Ultralytics 8.3.40  Python-3.12.3 torch-2.5.1+cu118 CUDA:0 (NVIDIA GeForce RTX 4050 Laptop GPU, 6140MiB)\n",
      "Model summary (fused): 168 layers, 3,005,843 parameters, 0 gradients, 8.1 GFLOPs\n"
     ]
    },
    {
     "name": "stderr",
     "output_type": "stream",
     "text": [
      "                 Class     Images  Instances      Box(P          R      mAP50  mAP50-95): 100%|██████████| 4/4 [00:00<00:00,  4.92it/s]\n"
     ]
    },
    {
     "name": "stdout",
     "output_type": "stream",
     "text": [
      "                   all        109         63          1      0.999      0.995       0.97\n",
      "Speed: 0.4ms preprocess, 1.2ms inference, 0.0ms loss, 2.0ms postprocess per image\n",
      "Results saved to \u001b[1mresults\\train_run\u001b[0m\n",
      "Model training complete!\n"
     ]
    }
   ],
   "source": [
    "from ultralytics import YOLO\n",
    "\n",
    "# Train YOLOv8 model\n",
    "model = YOLO(\"yolov8n.pt\")  # Use YOLOv8 Nano for speed\n",
    "model.train(\n",
    "    data=\"data.yaml\",  # Dataset configuration\n",
    "    epochs=10,         # Number of training epochs\n",
    "    imgsz=416,         # Image size\n",
    "    project=\"results\", # Specify custom logging folder (e.g., \"results\" in your project folder)\n",
    "    name=\"train_run\",  # Name of the training run\n",
    "    exist_ok=True,     # Overwrite existing folder if it exists,\n",
    "    device=0\n",
    ")\n",
    "\n",
    "print(\"Model training complete!\")"
   ]
  },
  {
   "cell_type": "code",
   "execution_count": 10,
   "metadata": {
    "collapsed": false,
    "pycharm": {
     "name": "#%%\n"
    }
   },
   "outputs": [
    {
     "name": "stderr",
     "output_type": "stream",
     "text": [
      "<>:7: SyntaxWarning: invalid escape sequence '\\w'\n",
      "<>:7: SyntaxWarning: invalid escape sequence '\\w'\n",
      "C:\\Users\\miche\\AppData\\Local\\Temp\\ipykernel_26140\\1392618999.py:7: SyntaxWarning: invalid escape sequence '\\w'\n",
      "  trained_model_path = \".\\\\results\\\\train_run\\weights\\\\best.pt\"  # Update this if necessary\n"
     ]
    },
    {
     "name": "stdout",
     "output_type": "stream",
     "text": [
      "\n",
      "image 1/1 c:\\Users\\miche\\Documents\\Erasmus\\DeVinci\\Veille et enjeux\\mine-recognition\\dataset\\images\\test\\desert_1072578811.png: 256x416 1 mine, 59.2ms\n",
      "Speed: 3.0ms preprocess, 59.2ms inference, 11.3ms postprocess per image at shape (1, 3, 256, 416)\n",
      "\n",
      "image 1/1 c:\\Users\\miche\\Documents\\Erasmus\\DeVinci\\Veille et enjeux\\mine-recognition\\dataset\\images\\test\\desert_129763790.png: 256x416 1 mine, 11.0ms\n",
      "Speed: 3.0ms preprocess, 11.0ms inference, 2.0ms postprocess per image at shape (1, 3, 256, 416)\n",
      "\n",
      "image 1/1 c:\\Users\\miche\\Documents\\Erasmus\\DeVinci\\Veille et enjeux\\mine-recognition\\dataset\\images\\test\\desert_1586410238.png: 256x416 1 mine, 11.0ms\n",
      "Speed: 3.0ms preprocess, 11.0ms inference, 2.0ms postprocess per image at shape (1, 3, 256, 416)\n",
      "\n",
      "image 1/1 c:\\Users\\miche\\Documents\\Erasmus\\DeVinci\\Veille et enjeux\\mine-recognition\\dataset\\images\\test\\desert_158664312.png: 256x416 1 mine, 14.0ms\n",
      "Speed: 3.1ms preprocess, 14.0ms inference, 2.0ms postprocess per image at shape (1, 3, 256, 416)\n",
      "\n",
      "image 1/1 c:\\Users\\miche\\Documents\\Erasmus\\DeVinci\\Veille et enjeux\\mine-recognition\\dataset\\images\\test\\desert_1615568553.png: 256x416 1 mine, 11.0ms\n",
      "Speed: 3.2ms preprocess, 11.0ms inference, 2.2ms postprocess per image at shape (1, 3, 256, 416)\n",
      "\n",
      "image 1/1 c:\\Users\\miche\\Documents\\Erasmus\\DeVinci\\Veille et enjeux\\mine-recognition\\dataset\\images\\test\\desert_1970005838.png: 256x416 1 mine, 11.0ms\n",
      "Speed: 3.0ms preprocess, 11.0ms inference, 2.0ms postprocess per image at shape (1, 3, 256, 416)\n",
      "\n",
      "image 1/1 c:\\Users\\miche\\Documents\\Erasmus\\DeVinci\\Veille et enjeux\\mine-recognition\\dataset\\images\\test\\desert_199663101.png: 256x416 1 mine, 13.0ms\n",
      "Speed: 6.0ms preprocess, 13.0ms inference, 3.0ms postprocess per image at shape (1, 3, 256, 416)\n",
      "\n",
      "image 1/1 c:\\Users\\miche\\Documents\\Erasmus\\DeVinci\\Veille et enjeux\\mine-recognition\\dataset\\images\\test\\desert_418146104.png: 256x416 1 mine, 12.0ms\n",
      "Speed: 3.4ms preprocess, 12.0ms inference, 2.0ms postprocess per image at shape (1, 3, 256, 416)\n",
      "\n",
      "image 1/1 c:\\Users\\miche\\Documents\\Erasmus\\DeVinci\\Veille et enjeux\\mine-recognition\\dataset\\images\\test\\desert_456286465.png: 256x416 1 mine, 13.0ms\n",
      "Speed: 5.0ms preprocess, 13.0ms inference, 2.0ms postprocess per image at shape (1, 3, 256, 416)\n",
      "\n",
      "image 1/1 c:\\Users\\miche\\Documents\\Erasmus\\DeVinci\\Veille et enjeux\\mine-recognition\\dataset\\images\\test\\grass_1080410225.png: 256x416 1 mine, 13.0ms\n",
      "Speed: 3.0ms preprocess, 13.0ms inference, 2.0ms postprocess per image at shape (1, 3, 256, 416)\n",
      "\n",
      "image 1/1 c:\\Users\\miche\\Documents\\Erasmus\\DeVinci\\Veille et enjeux\\mine-recognition\\dataset\\images\\test\\grass_1205124157.png: 256x416 (no detections), 11.0ms\n",
      "Speed: 2.1ms preprocess, 11.0ms inference, 1.0ms postprocess per image at shape (1, 3, 256, 416)\n",
      "\n",
      "image 1/1 c:\\Users\\miche\\Documents\\Erasmus\\DeVinci\\Veille et enjeux\\mine-recognition\\dataset\\images\\test\\grass_1447301261.png: 256x416 (no detections), 11.0ms\n",
      "Speed: 3.0ms preprocess, 11.0ms inference, 2.0ms postprocess per image at shape (1, 3, 256, 416)\n",
      "\n",
      "image 1/1 c:\\Users\\miche\\Documents\\Erasmus\\DeVinci\\Veille et enjeux\\mine-recognition\\dataset\\images\\test\\grass_1553968690.png: 256x416 1 mine, 12.0ms\n",
      "Speed: 2.0ms preprocess, 12.0ms inference, 2.0ms postprocess per image at shape (1, 3, 256, 416)\n",
      "\n",
      "image 1/1 c:\\Users\\miche\\Documents\\Erasmus\\DeVinci\\Veille et enjeux\\mine-recognition\\dataset\\images\\test\\grass_1730932801.png: 256x416 1 mine, 11.0ms\n",
      "Speed: 3.0ms preprocess, 11.0ms inference, 2.0ms postprocess per image at shape (1, 3, 256, 416)\n",
      "\n",
      "image 1/1 c:\\Users\\miche\\Documents\\Erasmus\\DeVinci\\Veille et enjeux\\mine-recognition\\dataset\\images\\test\\grass_1744172943.png: 256x416 1 mine, 13.0ms\n",
      "Speed: 3.0ms preprocess, 13.0ms inference, 2.0ms postprocess per image at shape (1, 3, 256, 416)\n",
      "\n",
      "image 1/1 c:\\Users\\miche\\Documents\\Erasmus\\DeVinci\\Veille et enjeux\\mine-recognition\\dataset\\images\\test\\grass_2001628627.png: 256x416 (no detections), 11.0ms\n",
      "Speed: 3.0ms preprocess, 11.0ms inference, 2.0ms postprocess per image at shape (1, 3, 256, 416)\n",
      "\n",
      "image 1/1 c:\\Users\\miche\\Documents\\Erasmus\\DeVinci\\Veille et enjeux\\mine-recognition\\dataset\\images\\test\\grass_478218796.png: 256x416 (no detections), 16.0ms\n",
      "Speed: 3.0ms preprocess, 16.0ms inference, 1.0ms postprocess per image at shape (1, 3, 256, 416)\n",
      "\n",
      "image 1/1 c:\\Users\\miche\\Documents\\Erasmus\\DeVinci\\Veille et enjeux\\mine-recognition\\dataset\\images\\test\\grass_644282667.png: 256x416 (no detections), 11.0ms\n",
      "Speed: 3.0ms preprocess, 11.0ms inference, 1.0ms postprocess per image at shape (1, 3, 256, 416)\n",
      "\n",
      "image 1/1 c:\\Users\\miche\\Documents\\Erasmus\\DeVinci\\Veille et enjeux\\mine-recognition\\dataset\\images\\test\\grass_647937457.png: 256x416 (no detections), 12.0ms\n",
      "Speed: 1.9ms preprocess, 12.0ms inference, 0.0ms postprocess per image at shape (1, 3, 256, 416)\n",
      "\n",
      "image 1/1 c:\\Users\\miche\\Documents\\Erasmus\\DeVinci\\Veille et enjeux\\mine-recognition\\dataset\\images\\test\\grass_654263522.png: 256x416 (no detections), 11.0ms\n",
      "Speed: 3.0ms preprocess, 11.0ms inference, 2.0ms postprocess per image at shape (1, 3, 256, 416)\n",
      "\n",
      "image 1/1 c:\\Users\\miche\\Documents\\Erasmus\\DeVinci\\Veille et enjeux\\mine-recognition\\dataset\\images\\test\\grass_738055936.png: 256x416 (no detections), 11.0ms\n",
      "Speed: 3.0ms preprocess, 11.0ms inference, 2.0ms postprocess per image at shape (1, 3, 256, 416)\n",
      "\n",
      "image 1/1 c:\\Users\\miche\\Documents\\Erasmus\\DeVinci\\Veille et enjeux\\mine-recognition\\dataset\\images\\test\\grass_906886514.png: 256x416 1 mine, 12.1ms\n",
      "Speed: 2.0ms preprocess, 12.1ms inference, 2.0ms postprocess per image at shape (1, 3, 256, 416)\n",
      "\n",
      "image 1/1 c:\\Users\\miche\\Documents\\Erasmus\\DeVinci\\Veille et enjeux\\mine-recognition\\dataset\\images\\test\\img15.jpg: 416x320 (no detections), 48.4ms\n",
      "Speed: 4.0ms preprocess, 48.4ms inference, 2.0ms postprocess per image at shape (1, 3, 416, 320)\n",
      "\n",
      "image 1/1 c:\\Users\\miche\\Documents\\Erasmus\\DeVinci\\Veille et enjeux\\mine-recognition\\dataset\\images\\test\\img18.jpg: 320x416 (no detections), 52.0ms\n",
      "Speed: 3.0ms preprocess, 52.0ms inference, 1.0ms postprocess per image at shape (1, 3, 320, 416)\n",
      "\n",
      "image 1/1 c:\\Users\\miche\\Documents\\Erasmus\\DeVinci\\Veille et enjeux\\mine-recognition\\dataset\\images\\test\\mountain_07D479F2.png: 256x416 1 mine, 16.0ms\n",
      "Speed: 4.0ms preprocess, 16.0ms inference, 2.0ms postprocess per image at shape (1, 3, 256, 416)\n",
      "\n",
      "image 1/1 c:\\Users\\miche\\Documents\\Erasmus\\DeVinci\\Veille et enjeux\\mine-recognition\\dataset\\images\\test\\mountain_10D2D4B5.png: 256x416 (no detections), 12.0ms\n",
      "Speed: 5.0ms preprocess, 12.0ms inference, 1.0ms postprocess per image at shape (1, 3, 256, 416)\n",
      "\n",
      "image 1/1 c:\\Users\\miche\\Documents\\Erasmus\\DeVinci\\Veille et enjeux\\mine-recognition\\dataset\\images\\test\\mountain_30E4822F.png: 256x416 1 mine, 11.0ms\n",
      "Speed: 2.0ms preprocess, 11.0ms inference, 2.0ms postprocess per image at shape (1, 3, 256, 416)\n",
      "\n",
      "image 1/1 c:\\Users\\miche\\Documents\\Erasmus\\DeVinci\\Veille et enjeux\\mine-recognition\\dataset\\images\\test\\mountain_3BD6DB6F.png: 256x416 (no detections), 16.0ms\n",
      "Speed: 3.0ms preprocess, 16.0ms inference, 2.0ms postprocess per image at shape (1, 3, 256, 416)\n",
      "\n",
      "image 1/1 c:\\Users\\miche\\Documents\\Erasmus\\DeVinci\\Veille et enjeux\\mine-recognition\\dataset\\images\\test\\mountain_42B1495B.png: 256x416 (no detections), 11.0ms\n",
      "Speed: 3.0ms preprocess, 11.0ms inference, 0.0ms postprocess per image at shape (1, 3, 256, 416)\n",
      "\n",
      "image 1/1 c:\\Users\\miche\\Documents\\Erasmus\\DeVinci\\Veille et enjeux\\mine-recognition\\dataset\\images\\test\\mountain_44CC6D17.png: 256x416 (no detections), 11.3ms\n",
      "Speed: 3.0ms preprocess, 11.3ms inference, 0.0ms postprocess per image at shape (1, 3, 256, 416)\n",
      "\n",
      "image 1/1 c:\\Users\\miche\\Documents\\Erasmus\\DeVinci\\Veille et enjeux\\mine-recognition\\dataset\\images\\test\\mountain_44FE82D9.png: 256x416 1 mine, 12.0ms\n",
      "Speed: 2.0ms preprocess, 12.0ms inference, 2.0ms postprocess per image at shape (1, 3, 256, 416)\n",
      "\n",
      "image 1/1 c:\\Users\\miche\\Documents\\Erasmus\\DeVinci\\Veille et enjeux\\mine-recognition\\dataset\\images\\test\\mountain_4CCF3EDF.png: 256x416 1 mine, 12.0ms\n",
      "Speed: 2.0ms preprocess, 12.0ms inference, 2.0ms postprocess per image at shape (1, 3, 256, 416)\n",
      "\n",
      "image 1/1 c:\\Users\\miche\\Documents\\Erasmus\\DeVinci\\Veille et enjeux\\mine-recognition\\dataset\\images\\test\\mountain_729A7BF7.png: 256x416 1 mine, 11.0ms\n",
      "Speed: 2.9ms preprocess, 11.0ms inference, 2.1ms postprocess per image at shape (1, 3, 256, 416)\n",
      "\n",
      "image 1/1 c:\\Users\\miche\\Documents\\Erasmus\\DeVinci\\Veille et enjeux\\mine-recognition\\dataset\\images\\test\\mountain_88C25F76.png: 256x416 (no detections), 11.0ms\n",
      "Speed: 4.1ms preprocess, 11.0ms inference, 1.0ms postprocess per image at shape (1, 3, 256, 416)\n",
      "\n",
      "image 1/1 c:\\Users\\miche\\Documents\\Erasmus\\DeVinci\\Veille et enjeux\\mine-recognition\\dataset\\images\\test\\mountain_BA33AFBC.png: 256x416 (no detections), 12.0ms\n",
      "Speed: 5.0ms preprocess, 12.0ms inference, 1.0ms postprocess per image at shape (1, 3, 256, 416)\n",
      "\n",
      "image 1/1 c:\\Users\\miche\\Documents\\Erasmus\\DeVinci\\Veille et enjeux\\mine-recognition\\dataset\\images\\test\\mountain_CD9BDB6E.png: 256x416 1 mine, 11.0ms\n",
      "Speed: 2.1ms preprocess, 11.0ms inference, 2.0ms postprocess per image at shape (1, 3, 256, 416)\n",
      "\n",
      "image 1/1 c:\\Users\\miche\\Documents\\Erasmus\\DeVinci\\Veille et enjeux\\mine-recognition\\dataset\\images\\test\\mountain_E2AF67C3.png: 256x416 (no detections), 11.0ms\n",
      "Speed: 3.0ms preprocess, 11.0ms inference, 1.0ms postprocess per image at shape (1, 3, 256, 416)\n",
      "\n",
      "image 1/1 c:\\Users\\miche\\Documents\\Erasmus\\DeVinci\\Veille et enjeux\\mine-recognition\\dataset\\images\\test\\mountain_EA649EB7.png: 256x416 (no detections), 15.5ms\n",
      "Speed: 2.0ms preprocess, 15.5ms inference, 1.0ms postprocess per image at shape (1, 3, 256, 416)\n",
      "\n",
      "image 1/1 c:\\Users\\miche\\Documents\\Erasmus\\DeVinci\\Veille et enjeux\\mine-recognition\\dataset\\images\\test\\mountain_FB213CE4.png: 256x416 (no detections), 11.0ms\n",
      "Speed: 3.0ms preprocess, 11.0ms inference, 1.0ms postprocess per image at shape (1, 3, 256, 416)\n",
      "\n",
      "image 1/1 c:\\Users\\miche\\Documents\\Erasmus\\DeVinci\\Veille et enjeux\\mine-recognition\\dataset\\images\\test\\white_16331CB7.png: 256x416 1 mine, 15.9ms\n",
      "Speed: 3.0ms preprocess, 15.9ms inference, 2.0ms postprocess per image at shape (1, 3, 256, 416)\n",
      "\n",
      "image 1/1 c:\\Users\\miche\\Documents\\Erasmus\\DeVinci\\Veille et enjeux\\mine-recognition\\dataset\\images\\test\\white_19E9A705.png: 256x416 1 mine, 11.0ms\n",
      "Speed: 3.0ms preprocess, 11.0ms inference, 2.0ms postprocess per image at shape (1, 3, 256, 416)\n",
      "\n",
      "image 1/1 c:\\Users\\miche\\Documents\\Erasmus\\DeVinci\\Veille et enjeux\\mine-recognition\\dataset\\images\\test\\white_24F5484B.png: 256x416 1 mine, 11.0ms\n",
      "Speed: 3.0ms preprocess, 11.0ms inference, 2.0ms postprocess per image at shape (1, 3, 256, 416)\n",
      "\n",
      "image 1/1 c:\\Users\\miche\\Documents\\Erasmus\\DeVinci\\Veille et enjeux\\mine-recognition\\dataset\\images\\test\\white_2595474D.png: 256x416 1 mine, 11.0ms\n",
      "Speed: 3.0ms preprocess, 11.0ms inference, 2.9ms postprocess per image at shape (1, 3, 256, 416)\n",
      "\n",
      "image 1/1 c:\\Users\\miche\\Documents\\Erasmus\\DeVinci\\Veille et enjeux\\mine-recognition\\dataset\\images\\test\\white_26FFBC81.png: 256x416 (no detections), 11.0ms\n",
      "Speed: 2.0ms preprocess, 11.0ms inference, 1.0ms postprocess per image at shape (1, 3, 256, 416)\n",
      "\n",
      "image 1/1 c:\\Users\\miche\\Documents\\Erasmus\\DeVinci\\Veille et enjeux\\mine-recognition\\dataset\\images\\test\\white_3B386C2A.png: 256x416 1 mine, 12.0ms\n",
      "Speed: 3.0ms preprocess, 12.0ms inference, 2.0ms postprocess per image at shape (1, 3, 256, 416)\n",
      "\n",
      "image 1/1 c:\\Users\\miche\\Documents\\Erasmus\\DeVinci\\Veille et enjeux\\mine-recognition\\dataset\\images\\test\\white_471BDA4A.png: 256x416 1 mine, 13.0ms\n",
      "Speed: 5.0ms preprocess, 13.0ms inference, 2.0ms postprocess per image at shape (1, 3, 256, 416)\n",
      "\n",
      "image 1/1 c:\\Users\\miche\\Documents\\Erasmus\\DeVinci\\Veille et enjeux\\mine-recognition\\dataset\\images\\test\\white_64535000.png: 256x416 (no detections), 11.0ms\n",
      "Speed: 2.9ms preprocess, 11.0ms inference, 0.0ms postprocess per image at shape (1, 3, 256, 416)\n",
      "\n",
      "image 1/1 c:\\Users\\miche\\Documents\\Erasmus\\DeVinci\\Veille et enjeux\\mine-recognition\\dataset\\images\\test\\white_7D2779F4.png: 256x416 1 mine, 11.0ms\n",
      "Speed: 3.0ms preprocess, 11.0ms inference, 2.0ms postprocess per image at shape (1, 3, 256, 416)\n",
      "\n",
      "image 1/1 c:\\Users\\miche\\Documents\\Erasmus\\DeVinci\\Veille et enjeux\\mine-recognition\\dataset\\images\\test\\white_7E913B15.png: 256x416 (no detections), 12.1ms\n",
      "Speed: 3.9ms preprocess, 12.1ms inference, 0.9ms postprocess per image at shape (1, 3, 256, 416)\n",
      "\n",
      "image 1/1 c:\\Users\\miche\\Documents\\Erasmus\\DeVinci\\Veille et enjeux\\mine-recognition\\dataset\\images\\test\\white_9E0FD3DA.png: 256x416 1 mine, 11.0ms\n",
      "Speed: 2.0ms preprocess, 11.0ms inference, 2.0ms postprocess per image at shape (1, 3, 256, 416)\n",
      "\n",
      "image 1/1 c:\\Users\\miche\\Documents\\Erasmus\\DeVinci\\Veille et enjeux\\mine-recognition\\dataset\\images\\test\\white_ABF4DF3A.png: 256x416 (no detections), 10.9ms\n",
      "Speed: 2.0ms preprocess, 10.9ms inference, 0.5ms postprocess per image at shape (1, 3, 256, 416)\n",
      "\n",
      "image 1/1 c:\\Users\\miche\\Documents\\Erasmus\\DeVinci\\Veille et enjeux\\mine-recognition\\dataset\\images\\test\\white_B0F82AB4.png: 256x416 1 mine, 12.0ms\n",
      "Speed: 2.0ms preprocess, 12.0ms inference, 3.0ms postprocess per image at shape (1, 3, 256, 416)\n",
      "\n",
      "image 1/1 c:\\Users\\miche\\Documents\\Erasmus\\DeVinci\\Veille et enjeux\\mine-recognition\\dataset\\images\\test\\white_CD96F705.png: 256x416 1 mine, 11.1ms\n",
      "Speed: 2.9ms preprocess, 11.1ms inference, 2.0ms postprocess per image at shape (1, 3, 256, 416)\n",
      "\n",
      "image 1/1 c:\\Users\\miche\\Documents\\Erasmus\\DeVinci\\Veille et enjeux\\mine-recognition\\dataset\\images\\test\\white_E1813311.png: 256x416 (no detections), 11.0ms\n",
      "Speed: 4.0ms preprocess, 11.0ms inference, 0.0ms postprocess per image at shape (1, 3, 256, 416)\n",
      "\n",
      "image 1/1 c:\\Users\\miche\\Documents\\Erasmus\\DeVinci\\Veille et enjeux\\mine-recognition\\dataset\\images\\test\\white_E483B5D7.png: 256x416 1 mine, 11.0ms\n",
      "Speed: 3.3ms preprocess, 11.0ms inference, 3.0ms postprocess per image at shape (1, 3, 256, 416)\n",
      "\n",
      "image 1/1 c:\\Users\\miche\\Documents\\Erasmus\\DeVinci\\Veille et enjeux\\mine-recognition\\dataset\\images\\test\\white_E7B00347.png: 256x416 1 mine, 11.0ms\n",
      "Speed: 3.0ms preprocess, 11.0ms inference, 2.0ms postprocess per image at shape (1, 3, 256, 416)\n",
      "Annotated images saved to: annotated_results\n"
     ]
    }
   ],
   "source": [
    "# Path to test images\n",
    "test_images_path = os.path.join(images_path, \"test\")\n",
    "output_folder = \"annotated_results\"\n",
    "os.makedirs(output_folder, exist_ok=True)\n",
    "\n",
    "# Load trained model\n",
    "trained_model_path = \".\\\\results\\\\train_run\\weights\\\\best.pt\"  # Update this if necessary\n",
    "model = YOLO(trained_model_path)\n",
    "\n",
    "# Run inference on test images\n",
    "test_images = [f for f in os.listdir(test_images_path) if f.endswith((\".jpg\", \".png\", \".jpeg\"))]\n",
    "\n",
    "for image_name in test_images:\n",
    "    image_path = os.path.join(test_images_path, image_name)\n",
    "    results = model(image_path)\n",
    "\n",
    "    # Save annotated image\n",
    "    annotated_image = results[0].plot()\n",
    "    output_path = os.path.join(output_folder, f\"annotated_{image_name}\")\n",
    "    cv2.imwrite(output_path, annotated_image)\n",
    "\n",
    "print(f\"Annotated images saved to: {output_folder}\")"
   ]
  },
  {
   "cell_type": "code",
   "execution_count": 11,
   "metadata": {
    "collapsed": false,
    "pycharm": {
     "name": "#%%\n"
    }
   },
   "outputs": [
    {
     "name": "stdout",
     "output_type": "stream",
     "text": [
      "Ultralytics 8.3.40  Python-3.12.3 torch-2.5.1+cu118 CUDA:0 (NVIDIA GeForce RTX 4050 Laptop GPU, 6140MiB)\n",
      "Model summary (fused): 168 layers, 3,005,843 parameters, 0 gradients, 8.1 GFLOPs\n"
     ]
    },
    {
     "name": "stderr",
     "output_type": "stream",
     "text": [
      "\u001b[34m\u001b[1mval: \u001b[0mScanning C:\\Users\\miche\\Documents\\Erasmus\\DeVinci\\Veille et enjeux\\mine-recognition\\dataset\\labels\\val.cache... 109 images, 46 backgrounds, 0 corrupt: 100%|██████████| 109/109 [00:00<?, ?it/s]\n",
      "                 Class     Images  Instances      Box(P          R      mAP50  mAP50-95): 100%|██████████| 7/7 [00:12<00:00,  1.84s/it]\n"
     ]
    },
    {
     "name": "stdout",
     "output_type": "stream",
     "text": [
      "                   all        109         63          1      0.999      0.995       0.97\n",
      "Speed: 1.2ms preprocess, 6.7ms inference, 0.0ms loss, 3.4ms postprocess per image\n",
      "Results saved to \u001b[1mresults\\val_run\u001b[0m\n",
      "Model Performance:\n",
      "mAP@0.5: 0.9950\n",
      "mAP@0.5:0.95: 0.9697\n",
      "Results saved to: results/val_run\n"
     ]
    }
   ],
   "source": [
    "from ultralytics import YOLO\n",
    "\n",
    "# Load the trained model\n",
    "trained_model_path = \"results/train_run/weights/best.pt\"  # Update the path to your best model\n",
    "model = YOLO(trained_model_path)\n",
    "\n",
    "# Custom results directory\n",
    "results_dir = \"results\"  # Directory where validation results will be saved\n",
    "\n",
    "# Evaluate the model and save results to custom directory\n",
    "results = model.val(project=results_dir, name=\"val_run\", exist_ok=True)\n",
    "\n",
    "# Print key metrics\n",
    "print(\"Model Performance:\")\n",
    "print(f\"mAP@0.5: {results.box.map50:.4f}\")   # Mean Average Precision at IoU=0.5\n",
    "print(f\"mAP@0.5:0.95: {results.box.map:.4f}\")  # Mean Average Precision at IoU=0.5:0.95\n",
    "\n",
    "# Results saved location\n",
    "print(f\"Results saved to: {results_dir}/val_run\")\n"
   ]
  },
  {
   "cell_type": "code",
   "execution_count": null,
   "metadata": {
    "collapsed": false,
    "pycharm": {
     "name": "#%%\n"
    }
   },
   "outputs": [],
   "source": []
  }
 ],
 "metadata": {
  "kernelspec": {
   "display_name": "mine-recognition",
   "language": "python",
   "name": "python3"
  },
  "language_info": {
   "codemirror_mode": {
    "name": "ipython",
    "version": 3
   },
   "file_extension": ".py",
   "mimetype": "text/x-python",
   "name": "python",
   "nbconvert_exporter": "python",
   "pygments_lexer": "ipython3",
   "version": "3.12.3"
  }
 },
 "nbformat": 4,
 "nbformat_minor": 0
}
