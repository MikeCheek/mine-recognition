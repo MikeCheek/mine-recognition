{
 "cells": [
  {
   "cell_type": "code",
   "execution_count": 31,
   "metadata": {
    "collapsed": true
   },
   "outputs": [],
   "source": [
    "# Install necessary libraries\n",
    "# !pip install ultralytics -q"
   ]
  },
  {
   "cell_type": "code",
   "execution_count": 32,
   "outputs": [
    {
     "name": "stdout",
     "output_type": "stream",
     "text": [
      "Dataset processing complete!\n"
     ]
    }
   ],
   "source": [
    "import os\n",
    "import cv2\n",
    "import numpy as np\n",
    "\n",
    "# Define paths\n",
    "base_path = \"images\"  # Your dataset folder\n",
    "true_path = os.path.join(base_path, \"true\")\n",
    "false_path = os.path.join(base_path, \"false\")\n",
    "output_path = \"dataset\"\n",
    "labels_path = os.path.join(output_path, \"labels\")\n",
    "images_path = os.path.join(output_path, \"images\")\n",
    "\n",
    "# Create YOLO folder structure\n",
    "folders = [\n",
    "    os.path.join(images_path, \"train\"),\n",
    "    os.path.join(images_path, \"val\"),\n",
    "    os.path.join(images_path, \"test\"),\n",
    "    os.path.join(labels_path, \"train\"),\n",
    "    os.path.join(labels_path, \"val\"),\n",
    "    os.path.join(labels_path, \"test\"),\n",
    "]\n",
    "for folder in folders:\n",
    "    os.makedirs(folder, exist_ok=True)\n",
    "\n",
    "# Function to split data into train/val/test\n",
    "import random\n",
    "def split_and_copy(src_folder, dst_folder, split_ratios=(0.7, 0.2, 0.1)):\n",
    "    images = [f for f in os.listdir(src_folder) if f.endswith((\".jpg\", \".png\", \".jpeg\"))]\n",
    "    random.shuffle(images)\n",
    "    n_train = int(len(images) * split_ratios[0])\n",
    "    n_val = int(len(images) * split_ratios[1])\n",
    "\n",
    "    train, val, test = images[:n_train], images[n_train:n_train + n_val], images[n_train + n_val:]\n",
    "\n",
    "    for split, split_name in zip([train, val, test], [\"train\", \"val\", \"test\"]):\n",
    "        for image in split:\n",
    "            src = os.path.join(src_folder, image)\n",
    "            dst = os.path.join(dst_folder, split_name, image)\n",
    "            os.makedirs(os.path.dirname(dst), exist_ok=True)\n",
    "            cv2.imwrite(dst, cv2.imread(src))\n",
    "    return train, val, test\n",
    "\n",
    "# Split \"true\" and \"false\" images into train/val/test\n",
    "true_train, true_val, true_test = split_and_copy(true_path, images_path)\n",
    "false_train, false_val, false_test = split_and_copy(false_path, images_path)\n",
    "\n",
    "# Generate bounding box labels for \"true\" images\n",
    "def generate_true_labels(image_list, image_folder, output_folder, class_id=0):\n",
    "    for image_name in image_list:\n",
    "        image_path = os.path.join(image_folder, image_name)\n",
    "        label_file = os.path.splitext(image_name)[0] + \".txt\"\n",
    "        label_path = os.path.join(output_folder, label_file)\n",
    "\n",
    "        image = cv2.imread(image_path)\n",
    "        height, width, _ = image.shape\n",
    "\n",
    "        # Default bounding box (centered, covers a large portion of the image)\n",
    "        x_center = 0.5\n",
    "        y_center = 0.5\n",
    "        box_width = 0.5\n",
    "        box_height = 0.5\n",
    "\n",
    "        # Save bounding box\n",
    "        with open(label_path, \"w\") as f:\n",
    "            f.write(f\"{class_id} {x_center} {y_center} {box_width} {box_height}\\n\")\n",
    "\n",
    "# Generate empty labels for \"false\" images\n",
    "def generate_false_labels(image_list, output_folder):\n",
    "    for image_name in image_list:\n",
    "        label_file = os.path.splitext(image_name)[0] + \".txt\"\n",
    "        label_path = os.path.join(output_folder, label_file)\n",
    "        open(label_path, \"w\").close()  # Create an empty file\n",
    "\n",
    "# Generate labels for train/val/test splits\n",
    "generate_true_labels(true_train, os.path.join(images_path, \"train\"), os.path.join(labels_path, \"train\"))\n",
    "generate_true_labels(true_val, os.path.join(images_path, \"val\"), os.path.join(labels_path, \"val\"))\n",
    "generate_true_labels(true_test, os.path.join(images_path, \"test\"), os.path.join(labels_path, \"test\"))\n",
    "\n",
    "generate_false_labels(false_train, os.path.join(labels_path, \"train\"))\n",
    "generate_false_labels(false_val, os.path.join(labels_path, \"val\"))\n",
    "generate_false_labels(false_test, os.path.join(labels_path, \"test\"))\n",
    "\n",
    "print(\"Dataset processing complete!\")"
   ],
   "metadata": {
    "collapsed": false,
    "pycharm": {
     "name": "#%%\n"
    }
   }
  },
  {
   "cell_type": "code",
   "execution_count": 33,
   "outputs": [
    {
     "name": "stdout",
     "output_type": "stream",
     "text": [
      "data.yaml created!\n"
     ]
    }
   ],
   "source": [
    "# Create the dataset YAML file\n",
    "data_yaml = f\"\"\"\n",
    "train: {os.path.abspath(os.path.join(images_path, 'train'))}\n",
    "val: {os.path.abspath(os.path.join(images_path, 'val'))}\n",
    "\n",
    "nc: 1\n",
    "names: ['mine']\n",
    "\"\"\"\n",
    "\n",
    "with open(\"data.yaml\", \"w\") as f:\n",
    "    f.write(data_yaml)\n",
    "\n",
    "print(\"data.yaml created!\")"
   ],
   "metadata": {
    "collapsed": false,
    "pycharm": {
     "name": "#%%\n"
    }
   }
  },
  {
   "cell_type": "code",
   "execution_count": 34,
   "outputs": [
    {
     "name": "stdout",
     "output_type": "stream",
     "text": [
      "New https://pypi.org/project/ultralytics/8.3.39 available  Update with 'pip install -U ultralytics'\n",
      "Ultralytics 8.3.38  Python-3.11.10 torch-2.5.1+cpu CPU (Intel Core(TM) i7-10510U 1.80GHz)\n",
      "\u001B[34m\u001B[1mengine\\trainer: \u001B[0mtask=detect, mode=train, model=yolov8n.pt, data=data.yaml, epochs=10, time=None, patience=100, batch=16, imgsz=416, save=True, save_period=-1, cache=False, device=None, workers=8, project=results, name=train_run, exist_ok=True, pretrained=True, optimizer=auto, verbose=True, seed=0, deterministic=True, single_cls=False, rect=False, cos_lr=False, close_mosaic=10, resume=False, amp=True, fraction=1.0, profile=False, freeze=None, multi_scale=False, overlap_mask=True, mask_ratio=4, dropout=0.0, val=True, split=val, save_json=False, save_hybrid=False, conf=None, iou=0.7, max_det=300, half=False, dnn=False, plots=True, source=None, vid_stride=1, stream_buffer=False, visualize=False, augment=False, agnostic_nms=False, classes=None, retina_masks=False, embed=None, show=False, save_frames=False, save_txt=False, save_conf=False, save_crop=False, show_labels=True, show_conf=True, show_boxes=True, line_width=None, format=torchscript, keras=False, optimize=False, int8=False, dynamic=False, simplify=True, opset=None, workspace=None, nms=False, lr0=0.01, lrf=0.01, momentum=0.937, weight_decay=0.0005, warmup_epochs=3.0, warmup_momentum=0.8, warmup_bias_lr=0.1, box=7.5, cls=0.5, dfl=1.5, pose=12.0, kobj=1.0, nbs=64, hsv_h=0.015, hsv_s=0.7, hsv_v=0.4, degrees=0.0, translate=0.1, scale=0.5, shear=0.0, perspective=0.0, flipud=0.0, fliplr=0.5, bgr=0.0, mosaic=1.0, mixup=0.0, copy_paste=0.0, copy_paste_mode=flip, auto_augment=randaugment, erasing=0.4, crop_fraction=1.0, cfg=None, tracker=botsort.yaml, save_dir=results\\train_run\n",
      "Overriding model.yaml nc=80 with nc=1\n",
      "\n",
      "                   from  n    params  module                                       arguments                     \n",
      "  0                  -1  1       464  ultralytics.nn.modules.conv.Conv             [3, 16, 3, 2]                 \n",
      "  1                  -1  1      4672  ultralytics.nn.modules.conv.Conv             [16, 32, 3, 2]                \n",
      "  2                  -1  1      7360  ultralytics.nn.modules.block.C2f             [32, 32, 1, True]             \n",
      "  3                  -1  1     18560  ultralytics.nn.modules.conv.Conv             [32, 64, 3, 2]                \n",
      "  4                  -1  2     49664  ultralytics.nn.modules.block.C2f             [64, 64, 2, True]             \n",
      "  5                  -1  1     73984  ultralytics.nn.modules.conv.Conv             [64, 128, 3, 2]               \n",
      "  6                  -1  2    197632  ultralytics.nn.modules.block.C2f             [128, 128, 2, True]           \n",
      "  7                  -1  1    295424  ultralytics.nn.modules.conv.Conv             [128, 256, 3, 2]              \n",
      "  8                  -1  1    460288  ultralytics.nn.modules.block.C2f             [256, 256, 1, True]           \n",
      "  9                  -1  1    164608  ultralytics.nn.modules.block.SPPF            [256, 256, 5]                 \n",
      " 10                  -1  1         0  torch.nn.modules.upsampling.Upsample         [None, 2, 'nearest']          \n",
      " 11             [-1, 6]  1         0  ultralytics.nn.modules.conv.Concat           [1]                           \n",
      " 12                  -1  1    148224  ultralytics.nn.modules.block.C2f             [384, 128, 1]                 \n",
      " 13                  -1  1         0  torch.nn.modules.upsampling.Upsample         [None, 2, 'nearest']          \n",
      " 14             [-1, 4]  1         0  ultralytics.nn.modules.conv.Concat           [1]                           \n",
      " 15                  -1  1     37248  ultralytics.nn.modules.block.C2f             [192, 64, 1]                  \n",
      " 16                  -1  1     36992  ultralytics.nn.modules.conv.Conv             [64, 64, 3, 2]                \n",
      " 17            [-1, 12]  1         0  ultralytics.nn.modules.conv.Concat           [1]                           \n",
      " 18                  -1  1    123648  ultralytics.nn.modules.block.C2f             [192, 128, 1]                 \n",
      " 19                  -1  1    147712  ultralytics.nn.modules.conv.Conv             [128, 128, 3, 2]              \n",
      " 20             [-1, 9]  1         0  ultralytics.nn.modules.conv.Concat           [1]                           \n",
      " 21                  -1  1    493056  ultralytics.nn.modules.block.C2f             [384, 256, 1]                 \n",
      " 22        [15, 18, 21]  1    751507  ultralytics.nn.modules.head.Detect           [1, [64, 128, 256]]           \n",
      "Model summary: 225 layers, 3,011,043 parameters, 3,011,027 gradients, 8.2 GFLOPs\n",
      "\n",
      "Transferred 319/355 items from pretrained weights\n",
      "Freezing layer 'model.22.dfl.conv.weight'\n"
     ]
    },
    {
     "name": "stderr",
     "output_type": "stream",
     "text": [
      "\u001B[34m\u001B[1mtrain: \u001B[0mScanning C:\\Users\\alesa\\Desktop\\Magistrale\\ESILV\\Veille et enjeux\\mine-recognition\\dataset\\labels\\train... 223 images, 75 backgrounds, 0 corrupt: 100%|██████████| 227/227 [00:0\u001B[0m\n"
     ]
    },
    {
     "name": "stdout",
     "output_type": "stream",
     "text": [
      "\u001B[34m\u001B[1mtrain: \u001B[0mNew cache created: C:\\Users\\alesa\\Desktop\\Magistrale\\ESILV\\Veille et enjeux\\mine-recognition\\dataset\\labels\\train.cache\n"
     ]
    },
    {
     "name": "stderr",
     "output_type": "stream",
     "text": [
      "\u001B[34m\u001B[1mval: \u001B[0mScanning C:\\Users\\alesa\\Desktop\\Magistrale\\ESILV\\Veille et enjeux\\mine-recognition\\dataset\\labels\\val... 88 images, 27 backgrounds, 0 corrupt: 100%|██████████| 88/88 [00:01<00:00\u001B[0m"
     ]
    },
    {
     "name": "stdout",
     "output_type": "stream",
     "text": [
      "\u001B[34m\u001B[1mval: \u001B[0mNew cache created: C:\\Users\\alesa\\Desktop\\Magistrale\\ESILV\\Veille et enjeux\\mine-recognition\\dataset\\labels\\val.cache\n"
     ]
    },
    {
     "name": "stderr",
     "output_type": "stream",
     "text": [
      "\n"
     ]
    },
    {
     "name": "stdout",
     "output_type": "stream",
     "text": [
      "Plotting labels to results\\train_run\\labels.jpg... \n",
      "\u001B[34m\u001B[1moptimizer:\u001B[0m 'optimizer=auto' found, ignoring 'lr0=0.01' and 'momentum=0.937' and determining best 'optimizer', 'lr0' and 'momentum' automatically... \n",
      "\u001B[34m\u001B[1moptimizer:\u001B[0m AdamW(lr=0.002, momentum=0.9) with parameter groups 57 weight(decay=0.0), 64 weight(decay=0.0005), 63 bias(decay=0.0)\n",
      "Image sizes 416 train, 416 val\n",
      "Using 0 dataloader workers\n",
      "Logging results to \u001B[1mresults\\train_run\u001B[0m\n",
      "Starting training for 10 epochs...\n",
      "Closing dataloader mosaic\n",
      "\n",
      "      Epoch    GPU_mem   box_loss   cls_loss   dfl_loss  Instances       Size\n"
     ]
    },
    {
     "name": "stderr",
     "output_type": "stream",
     "text": [
      "       1/10         0G      2.816      3.938      2.733          3        416: 100%|██████████| 15/15 [00:58<00:00,  3.93s/it]\n",
      "                 Class     Images  Instances      Box(P          R      mAP50  mAP50-95): 100%|██████████| 3/3 [00:10<00:00,  3.64s/it]"
     ]
    },
    {
     "name": "stdout",
     "output_type": "stream",
     "text": [
      "                   all         88         61     0.0032          1      0.708      0.364\n"
     ]
    },
    {
     "name": "stderr",
     "output_type": "stream",
     "text": [
      "\n"
     ]
    },
    {
     "name": "stdout",
     "output_type": "stream",
     "text": [
      "\n",
      "      Epoch    GPU_mem   box_loss   cls_loss   dfl_loss  Instances       Size\n"
     ]
    },
    {
     "name": "stderr",
     "output_type": "stream",
     "text": [
      "       2/10         0G       1.67      2.356      1.443          2        416: 100%|██████████| 15/15 [00:48<00:00,  3.21s/it]\n",
      "                 Class     Images  Instances      Box(P          R      mAP50  mAP50-95): 100%|██████████| 3/3 [00:09<00:00,  3.26s/it]"
     ]
    },
    {
     "name": "stdout",
     "output_type": "stream",
     "text": [
      "                   all         88         61    0.00337          1      0.916      0.402\n"
     ]
    },
    {
     "name": "stderr",
     "output_type": "stream",
     "text": [
      "\n"
     ]
    },
    {
     "name": "stdout",
     "output_type": "stream",
     "text": [
      "\n",
      "      Epoch    GPU_mem   box_loss   cls_loss   dfl_loss  Instances       Size\n"
     ]
    },
    {
     "name": "stderr",
     "output_type": "stream",
     "text": [
      "       3/10         0G      1.445      1.907      1.296          3        416: 100%|██████████| 15/15 [00:46<00:00,  3.12s/it]\n",
      "                 Class     Images  Instances      Box(P          R      mAP50  mAP50-95): 100%|██████████| 3/3 [00:09<00:00,  3.11s/it]"
     ]
    },
    {
     "name": "stdout",
     "output_type": "stream",
     "text": [
      "                   all         88         61      0.813      0.967      0.972      0.529\n"
     ]
    },
    {
     "name": "stderr",
     "output_type": "stream",
     "text": [
      "\n"
     ]
    },
    {
     "name": "stdout",
     "output_type": "stream",
     "text": [
      "\n",
      "      Epoch    GPU_mem   box_loss   cls_loss   dfl_loss  Instances       Size\n"
     ]
    },
    {
     "name": "stderr",
     "output_type": "stream",
     "text": [
      "       4/10         0G      1.321      1.562       1.24          2        416: 100%|██████████| 15/15 [00:46<00:00,  3.11s/it]\n",
      "                 Class     Images  Instances      Box(P          R      mAP50  mAP50-95): 100%|██████████| 3/3 [00:09<00:00,  3.09s/it]"
     ]
    },
    {
     "name": "stdout",
     "output_type": "stream",
     "text": [
      "                   all         88         61      0.953       0.99      0.994      0.678\n"
     ]
    },
    {
     "name": "stderr",
     "output_type": "stream",
     "text": [
      "\n"
     ]
    },
    {
     "name": "stdout",
     "output_type": "stream",
     "text": [
      "\n",
      "      Epoch    GPU_mem   box_loss   cls_loss   dfl_loss  Instances       Size\n"
     ]
    },
    {
     "name": "stderr",
     "output_type": "stream",
     "text": [
      "       5/10         0G      1.116      1.402      1.122          2        416: 100%|██████████| 15/15 [00:46<00:00,  3.13s/it]\n",
      "                 Class     Images  Instances      Box(P          R      mAP50  mAP50-95): 100%|██████████| 3/3 [00:10<00:00,  3.39s/it]"
     ]
    },
    {
     "name": "stdout",
     "output_type": "stream",
     "text": [
      "                   all         88         61          1          1      0.995      0.705\n"
     ]
    },
    {
     "name": "stderr",
     "output_type": "stream",
     "text": [
      "\n"
     ]
    },
    {
     "name": "stdout",
     "output_type": "stream",
     "text": [
      "\n",
      "      Epoch    GPU_mem   box_loss   cls_loss   dfl_loss  Instances       Size\n"
     ]
    },
    {
     "name": "stderr",
     "output_type": "stream",
     "text": [
      "       6/10         0G      0.898      1.134      1.019          3        416: 100%|██████████| 15/15 [00:47<00:00,  3.17s/it]\n",
      "                 Class     Images  Instances      Box(P          R      mAP50  mAP50-95): 100%|██████████| 3/3 [00:09<00:00,  3.33s/it]"
     ]
    },
    {
     "name": "stdout",
     "output_type": "stream",
     "text": [
      "                   all         88         61      0.998          1      0.995      0.794\n"
     ]
    },
    {
     "name": "stderr",
     "output_type": "stream",
     "text": [
      "\n"
     ]
    },
    {
     "name": "stdout",
     "output_type": "stream",
     "text": [
      "\n",
      "      Epoch    GPU_mem   box_loss   cls_loss   dfl_loss  Instances       Size\n"
     ]
    },
    {
     "name": "stderr",
     "output_type": "stream",
     "text": [
      "       7/10         0G     0.8014      1.077     0.9806          2        416: 100%|██████████| 15/15 [00:57<00:00,  3.83s/it]\n",
      "                 Class     Images  Instances      Box(P          R      mAP50  mAP50-95): 100%|██████████| 3/3 [00:13<00:00,  4.65s/it]"
     ]
    },
    {
     "name": "stdout",
     "output_type": "stream",
     "text": [
      "                   all         88         61      0.999          1      0.995      0.765\n"
     ]
    },
    {
     "name": "stderr",
     "output_type": "stream",
     "text": [
      "\n"
     ]
    },
    {
     "name": "stdout",
     "output_type": "stream",
     "text": [
      "\n",
      "      Epoch    GPU_mem   box_loss   cls_loss   dfl_loss  Instances       Size\n"
     ]
    },
    {
     "name": "stderr",
     "output_type": "stream",
     "text": [
      "       8/10         0G     0.7222     0.9917     0.9392          1        416: 100%|██████████| 15/15 [00:52<00:00,  3.53s/it]\n",
      "                 Class     Images  Instances      Box(P          R      mAP50  mAP50-95): 100%|██████████| 3/3 [00:11<00:00,  3.90s/it]"
     ]
    },
    {
     "name": "stdout",
     "output_type": "stream",
     "text": [
      "                   all         88         61      0.998          1      0.995      0.785\n"
     ]
    },
    {
     "name": "stderr",
     "output_type": "stream",
     "text": [
      "\n"
     ]
    },
    {
     "name": "stdout",
     "output_type": "stream",
     "text": [
      "\n",
      "      Epoch    GPU_mem   box_loss   cls_loss   dfl_loss  Instances       Size\n"
     ]
    },
    {
     "name": "stderr",
     "output_type": "stream",
     "text": [
      "       9/10         0G     0.6723     0.9078     0.9579          2        416: 100%|██████████| 15/15 [00:56<00:00,  3.75s/it]\n",
      "                 Class     Images  Instances      Box(P          R      mAP50  mAP50-95): 100%|██████████| 3/3 [00:10<00:00,  3.58s/it]"
     ]
    },
    {
     "name": "stdout",
     "output_type": "stream",
     "text": [
      "                   all         88         61      0.999          1      0.995      0.835\n"
     ]
    },
    {
     "name": "stderr",
     "output_type": "stream",
     "text": [
      "\n"
     ]
    },
    {
     "name": "stdout",
     "output_type": "stream",
     "text": [
      "\n",
      "      Epoch    GPU_mem   box_loss   cls_loss   dfl_loss  Instances       Size\n"
     ]
    },
    {
     "name": "stderr",
     "output_type": "stream",
     "text": [
      "      10/10         0G     0.6134      0.857     0.9165          2        416: 100%|██████████| 15/15 [00:56<00:00,  3.77s/it]\n",
      "                 Class     Images  Instances      Box(P          R      mAP50  mAP50-95): 100%|██████████| 3/3 [00:14<00:00,  4.76s/it]"
     ]
    },
    {
     "name": "stdout",
     "output_type": "stream",
     "text": [
      "                   all         88         61      0.998          1      0.995      0.814\n"
     ]
    },
    {
     "name": "stderr",
     "output_type": "stream",
     "text": [
      "\n"
     ]
    },
    {
     "name": "stdout",
     "output_type": "stream",
     "text": [
      "\n",
      "10 epochs completed in 0.177 hours.\n",
      "Optimizer stripped from results\\train_run\\weights\\last.pt, 6.2MB\n",
      "Optimizer stripped from results\\train_run\\weights\\best.pt, 6.2MB\n",
      "\n",
      "Validating results\\train_run\\weights\\best.pt...\n",
      "Ultralytics 8.3.38  Python-3.11.10 torch-2.5.1+cpu CPU (Intel Core(TM) i7-10510U 1.80GHz)\n",
      "Model summary (fused): 168 layers, 3,005,843 parameters, 0 gradients, 8.1 GFLOPs\n"
     ]
    },
    {
     "name": "stderr",
     "output_type": "stream",
     "text": [
      "                 Class     Images  Instances      Box(P          R      mAP50  mAP50-95): 100%|██████████| 3/3 [00:11<00:00,  3.92s/it]\n"
     ]
    },
    {
     "name": "stdout",
     "output_type": "stream",
     "text": [
      "                   all         88         61      0.999          1      0.995      0.834\n",
      "Speed: 1.5ms preprocess, 43.0ms inference, 0.0ms loss, 2.1ms postprocess per image\n",
      "Results saved to \u001B[1mresults\\train_run\u001B[0m\n",
      "Model training complete!\n"
     ]
    }
   ],
   "source": [
    "from ultralytics import YOLO\n",
    "\n",
    "# Train YOLOv8 model\n",
    "model = YOLO(\"yolov8n.pt\")  # Use YOLOv8 Nano for speed\n",
    "model.train(\n",
    "    data=\"data.yaml\",  # Dataset configuration\n",
    "    epochs=10,         # Number of training epochs\n",
    "    imgsz=416,         # Image size\n",
    "    project=\"results\", # Specify custom logging folder (e.g., \"results\" in your project folder)\n",
    "    name=\"train_run\",  # Name of the training run\n",
    "    exist_ok=True      # Overwrite existing folder if it exists\n",
    ")\n",
    "\n",
    "print(\"Model training complete!\")"
   ],
   "metadata": {
    "collapsed": false,
    "pycharm": {
     "name": "#%%\n"
    }
   }
  },
  {
   "cell_type": "code",
   "execution_count": 41,
   "outputs": [
    {
     "name": "stdout",
     "output_type": "stream",
     "text": [
      "\n"
     ]
    },
    {
     "ename": "error",
     "evalue": "OpenCV(4.10.0) D:\\a\\opencv-python\\opencv-python\\opencv\\modules\\imgcodecs\\src\\loadsave.cpp:813: error: (-215:Assertion failed) !buf.empty() in function 'cv::imdecode_'\n",
     "output_type": "error",
     "traceback": [
      "\u001B[1;31m---------------------------------------------------------------------------\u001B[0m",
      "\u001B[1;31merror\u001B[0m                                     Traceback (most recent call last)",
      "Cell \u001B[1;32mIn[41], line 15\u001B[0m\n\u001B[0;32m     13\u001B[0m \u001B[38;5;28;01mfor\u001B[39;00m image_name \u001B[38;5;129;01min\u001B[39;00m test_images:\n\u001B[0;32m     14\u001B[0m     image_path \u001B[38;5;241m=\u001B[39m os\u001B[38;5;241m.\u001B[39mpath\u001B[38;5;241m.\u001B[39mjoin(test_images_path, image_name)\n\u001B[1;32m---> 15\u001B[0m     results \u001B[38;5;241m=\u001B[39m model(image_path)\n\u001B[0;32m     17\u001B[0m     \u001B[38;5;66;03m# Save annotated image\u001B[39;00m\n\u001B[0;32m     18\u001B[0m     annotated_image \u001B[38;5;241m=\u001B[39m results[\u001B[38;5;241m0\u001B[39m]\u001B[38;5;241m.\u001B[39mplot()\n",
      "File \u001B[1;32m~\\anaconda3\\Lib\\site-packages\\ultralytics\\engine\\model.py:176\u001B[0m, in \u001B[0;36mModel.__call__\u001B[1;34m(self, source, stream, **kwargs)\u001B[0m\n\u001B[0;32m    147\u001B[0m \u001B[38;5;28;01mdef\u001B[39;00m \u001B[38;5;21m__call__\u001B[39m(\n\u001B[0;32m    148\u001B[0m     \u001B[38;5;28mself\u001B[39m,\n\u001B[0;32m    149\u001B[0m     source: Union[\u001B[38;5;28mstr\u001B[39m, Path, \u001B[38;5;28mint\u001B[39m, Image\u001B[38;5;241m.\u001B[39mImage, \u001B[38;5;28mlist\u001B[39m, \u001B[38;5;28mtuple\u001B[39m, np\u001B[38;5;241m.\u001B[39mndarray, torch\u001B[38;5;241m.\u001B[39mTensor] \u001B[38;5;241m=\u001B[39m \u001B[38;5;28;01mNone\u001B[39;00m,\n\u001B[0;32m    150\u001B[0m     stream: \u001B[38;5;28mbool\u001B[39m \u001B[38;5;241m=\u001B[39m \u001B[38;5;28;01mFalse\u001B[39;00m,\n\u001B[0;32m    151\u001B[0m     \u001B[38;5;241m*\u001B[39m\u001B[38;5;241m*\u001B[39mkwargs,\n\u001B[0;32m    152\u001B[0m ) \u001B[38;5;241m-\u001B[39m\u001B[38;5;241m>\u001B[39m \u001B[38;5;28mlist\u001B[39m:\n\u001B[0;32m    153\u001B[0m \u001B[38;5;250m    \u001B[39m\u001B[38;5;124;03m\"\"\"\u001B[39;00m\n\u001B[0;32m    154\u001B[0m \u001B[38;5;124;03m    Alias for the predict method, enabling the model instance to be callable for predictions.\u001B[39;00m\n\u001B[0;32m    155\u001B[0m \n\u001B[1;32m   (...)\u001B[0m\n\u001B[0;32m    174\u001B[0m \u001B[38;5;124;03m        ...     print(f\"Detected {len(r)} objects in image\")\u001B[39;00m\n\u001B[0;32m    175\u001B[0m \u001B[38;5;124;03m    \"\"\"\u001B[39;00m\n\u001B[1;32m--> 176\u001B[0m     \u001B[38;5;28;01mreturn\u001B[39;00m \u001B[38;5;28mself\u001B[39m\u001B[38;5;241m.\u001B[39mpredict(source, stream, \u001B[38;5;241m*\u001B[39m\u001B[38;5;241m*\u001B[39mkwargs)\n",
      "File \u001B[1;32m~\\anaconda3\\Lib\\site-packages\\ultralytics\\engine\\model.py:554\u001B[0m, in \u001B[0;36mModel.predict\u001B[1;34m(self, source, stream, predictor, **kwargs)\u001B[0m\n\u001B[0;32m    552\u001B[0m \u001B[38;5;28;01mif\u001B[39;00m prompts \u001B[38;5;129;01mand\u001B[39;00m \u001B[38;5;28mhasattr\u001B[39m(\u001B[38;5;28mself\u001B[39m\u001B[38;5;241m.\u001B[39mpredictor, \u001B[38;5;124m\"\u001B[39m\u001B[38;5;124mset_prompts\u001B[39m\u001B[38;5;124m\"\u001B[39m):  \u001B[38;5;66;03m# for SAM-type models\u001B[39;00m\n\u001B[0;32m    553\u001B[0m     \u001B[38;5;28mself\u001B[39m\u001B[38;5;241m.\u001B[39mpredictor\u001B[38;5;241m.\u001B[39mset_prompts(prompts)\n\u001B[1;32m--> 554\u001B[0m \u001B[38;5;28;01mreturn\u001B[39;00m \u001B[38;5;28mself\u001B[39m\u001B[38;5;241m.\u001B[39mpredictor\u001B[38;5;241m.\u001B[39mpredict_cli(source\u001B[38;5;241m=\u001B[39msource) \u001B[38;5;28;01mif\u001B[39;00m is_cli \u001B[38;5;28;01melse\u001B[39;00m \u001B[38;5;28mself\u001B[39m\u001B[38;5;241m.\u001B[39mpredictor(source\u001B[38;5;241m=\u001B[39msource, stream\u001B[38;5;241m=\u001B[39mstream)\n",
      "File \u001B[1;32m~\\anaconda3\\Lib\\site-packages\\ultralytics\\engine\\predictor.py:173\u001B[0m, in \u001B[0;36mBasePredictor.__call__\u001B[1;34m(self, source, model, stream, *args, **kwargs)\u001B[0m\n\u001B[0;32m    171\u001B[0m     \u001B[38;5;28;01mreturn\u001B[39;00m \u001B[38;5;28mself\u001B[39m\u001B[38;5;241m.\u001B[39mstream_inference(source, model, \u001B[38;5;241m*\u001B[39margs, \u001B[38;5;241m*\u001B[39m\u001B[38;5;241m*\u001B[39mkwargs)\n\u001B[0;32m    172\u001B[0m \u001B[38;5;28;01melse\u001B[39;00m:\n\u001B[1;32m--> 173\u001B[0m     \u001B[38;5;28;01mreturn\u001B[39;00m \u001B[38;5;28mlist\u001B[39m(\u001B[38;5;28mself\u001B[39m\u001B[38;5;241m.\u001B[39mstream_inference(source, model, \u001B[38;5;241m*\u001B[39margs, \u001B[38;5;241m*\u001B[39m\u001B[38;5;241m*\u001B[39mkwargs))\n",
      "File \u001B[1;32m~\\anaconda3\\Lib\\site-packages\\torch\\utils\\_contextlib.py:36\u001B[0m, in \u001B[0;36m_wrap_generator.<locals>.generator_context\u001B[1;34m(*args, **kwargs)\u001B[0m\n\u001B[0;32m     33\u001B[0m \u001B[38;5;28;01mtry\u001B[39;00m:\n\u001B[0;32m     34\u001B[0m     \u001B[38;5;66;03m# Issuing `None` to a generator fires it up\u001B[39;00m\n\u001B[0;32m     35\u001B[0m     \u001B[38;5;28;01mwith\u001B[39;00m ctx_factory():\n\u001B[1;32m---> 36\u001B[0m         response \u001B[38;5;241m=\u001B[39m gen\u001B[38;5;241m.\u001B[39msend(\u001B[38;5;28;01mNone\u001B[39;00m)\n\u001B[0;32m     38\u001B[0m     \u001B[38;5;28;01mwhile\u001B[39;00m \u001B[38;5;28;01mTrue\u001B[39;00m:\n\u001B[0;32m     39\u001B[0m         \u001B[38;5;28;01mtry\u001B[39;00m:\n\u001B[0;32m     40\u001B[0m             \u001B[38;5;66;03m# Forward the response to our caller and get its next request\u001B[39;00m\n",
      "File \u001B[1;32m~\\anaconda3\\Lib\\site-packages\\ultralytics\\engine\\predictor.py:249\u001B[0m, in \u001B[0;36mBasePredictor.stream_inference\u001B[1;34m(self, source, model, *args, **kwargs)\u001B[0m\n\u001B[0;32m    243\u001B[0m profilers \u001B[38;5;241m=\u001B[39m (\n\u001B[0;32m    244\u001B[0m     ops\u001B[38;5;241m.\u001B[39mProfile(device\u001B[38;5;241m=\u001B[39m\u001B[38;5;28mself\u001B[39m\u001B[38;5;241m.\u001B[39mdevice),\n\u001B[0;32m    245\u001B[0m     ops\u001B[38;5;241m.\u001B[39mProfile(device\u001B[38;5;241m=\u001B[39m\u001B[38;5;28mself\u001B[39m\u001B[38;5;241m.\u001B[39mdevice),\n\u001B[0;32m    246\u001B[0m     ops\u001B[38;5;241m.\u001B[39mProfile(device\u001B[38;5;241m=\u001B[39m\u001B[38;5;28mself\u001B[39m\u001B[38;5;241m.\u001B[39mdevice),\n\u001B[0;32m    247\u001B[0m )\n\u001B[0;32m    248\u001B[0m \u001B[38;5;28mself\u001B[39m\u001B[38;5;241m.\u001B[39mrun_callbacks(\u001B[38;5;124m\"\u001B[39m\u001B[38;5;124mon_predict_start\u001B[39m\u001B[38;5;124m\"\u001B[39m)\n\u001B[1;32m--> 249\u001B[0m \u001B[38;5;28;01mfor\u001B[39;00m \u001B[38;5;28mself\u001B[39m\u001B[38;5;241m.\u001B[39mbatch \u001B[38;5;129;01min\u001B[39;00m \u001B[38;5;28mself\u001B[39m\u001B[38;5;241m.\u001B[39mdataset:\n\u001B[0;32m    250\u001B[0m     \u001B[38;5;28mself\u001B[39m\u001B[38;5;241m.\u001B[39mrun_callbacks(\u001B[38;5;124m\"\u001B[39m\u001B[38;5;124mon_predict_batch_start\u001B[39m\u001B[38;5;124m\"\u001B[39m)\n\u001B[0;32m    251\u001B[0m     paths, im0s, s \u001B[38;5;241m=\u001B[39m \u001B[38;5;28mself\u001B[39m\u001B[38;5;241m.\u001B[39mbatch\n",
      "File \u001B[1;32m~\\anaconda3\\Lib\\site-packages\\ultralytics\\data\\loaders.py:424\u001B[0m, in \u001B[0;36mLoadImagesAndVideos.__next__\u001B[1;34m(self)\u001B[0m\n\u001B[0;32m    422\u001B[0m         im0 \u001B[38;5;241m=\u001B[39m cv2\u001B[38;5;241m.\u001B[39mcvtColor(np\u001B[38;5;241m.\u001B[39masarray(img), cv2\u001B[38;5;241m.\u001B[39mCOLOR_RGB2BGR)  \u001B[38;5;66;03m# convert image to BGR nparray\u001B[39;00m\n\u001B[0;32m    423\u001B[0m \u001B[38;5;28;01melse\u001B[39;00m:\n\u001B[1;32m--> 424\u001B[0m     im0 \u001B[38;5;241m=\u001B[39m imread(path)  \u001B[38;5;66;03m# BGR\u001B[39;00m\n\u001B[0;32m    425\u001B[0m \u001B[38;5;28;01mif\u001B[39;00m im0 \u001B[38;5;129;01mis\u001B[39;00m \u001B[38;5;28;01mNone\u001B[39;00m:\n\u001B[0;32m    426\u001B[0m     LOGGER\u001B[38;5;241m.\u001B[39mwarning(\u001B[38;5;124mf\u001B[39m\u001B[38;5;124m\"\u001B[39m\u001B[38;5;124mWARNING ⚠️ Image Read Error \u001B[39m\u001B[38;5;132;01m{\u001B[39;00mpath\u001B[38;5;132;01m}\u001B[39;00m\u001B[38;5;124m\"\u001B[39m)\n",
      "File \u001B[1;32m~\\anaconda3\\Lib\\site-packages\\ultralytics\\utils\\patches.py:26\u001B[0m, in \u001B[0;36mimread\u001B[1;34m(filename, flags)\u001B[0m\n\u001B[0;32m     15\u001B[0m \u001B[38;5;28;01mdef\u001B[39;00m \u001B[38;5;21mimread\u001B[39m(filename: \u001B[38;5;28mstr\u001B[39m, flags: \u001B[38;5;28mint\u001B[39m \u001B[38;5;241m=\u001B[39m cv2\u001B[38;5;241m.\u001B[39mIMREAD_COLOR):\n\u001B[0;32m     16\u001B[0m \u001B[38;5;250m    \u001B[39m\u001B[38;5;124;03m\"\"\"\u001B[39;00m\n\u001B[0;32m     17\u001B[0m \u001B[38;5;124;03m    Read an image from a file.\u001B[39;00m\n\u001B[0;32m     18\u001B[0m \n\u001B[1;32m   (...)\u001B[0m\n\u001B[0;32m     24\u001B[0m \u001B[38;5;124;03m        (np.ndarray): The read image.\u001B[39;00m\n\u001B[0;32m     25\u001B[0m \u001B[38;5;124;03m    \"\"\"\u001B[39;00m\n\u001B[1;32m---> 26\u001B[0m     \u001B[38;5;28;01mreturn\u001B[39;00m cv2\u001B[38;5;241m.\u001B[39mimdecode(np\u001B[38;5;241m.\u001B[39mfromfile(filename, np\u001B[38;5;241m.\u001B[39muint8), flags)\n",
      "\u001B[1;31merror\u001B[0m: OpenCV(4.10.0) D:\\a\\opencv-python\\opencv-python\\opencv\\modules\\imgcodecs\\src\\loadsave.cpp:813: error: (-215:Assertion failed) !buf.empty() in function 'cv::imdecode_'\n"
     ]
    }
   ],
   "source": [
    "# Path to test images\n",
    "test_images_path = os.path.join(images_path, \"test\")\n",
    "output_folder = \"annotated_results\"\n",
    "os.makedirs(output_folder, exist_ok=True)\n",
    "\n",
    "# Load trained model\n",
    "trained_model_path = \"C:\\\\Users\\\\alesa\\Desktop\\Magistrale\\ESILV\\Veille et enjeux\\mine-recognition\\\\results\\\\train_run\\weights\\\\best.pt\"  # Update this if necessary\n",
    "model = YOLO(trained_model_path)\n",
    "\n",
    "# Run inference on test images\n",
    "test_images = [f for f in os.listdir(test_images_path) if f.endswith((\".jpg\", \".png\", \".jpeg\"))]\n",
    "\n",
    "for image_name in test_images:\n",
    "    image_path = os.path.join(test_images_path, image_name)\n",
    "    results = model(image_path)\n",
    "\n",
    "    # Save annotated image\n",
    "    annotated_image = results[0].plot()\n",
    "    output_path = os.path.join(output_folder, f\"annotated_{image_name}\")\n",
    "    cv2.imwrite(output_path, annotated_image)\n",
    "\n",
    "print(f\"Annotated images saved to: {output_folder}\")"
   ],
   "metadata": {
    "collapsed": false,
    "pycharm": {
     "name": "#%%\n"
    }
   }
  },
  {
   "cell_type": "code",
   "execution_count": 36,
   "outputs": [
    {
     "name": "stdout",
     "output_type": "stream",
     "text": [
      "Ultralytics 8.3.38  Python-3.11.10 torch-2.5.1+cpu CPU (Intel Core(TM) i7-10510U 1.80GHz)\n",
      "Model summary (fused): 168 layers, 3,005,843 parameters, 0 gradients, 8.1 GFLOPs\n"
     ]
    },
    {
     "name": "stderr",
     "output_type": "stream",
     "text": [
      "\u001B[34m\u001B[1mval: \u001B[0mScanning C:\\Users\\alesa\\Desktop\\Magistrale\\ESILV\\Veille et enjeux\\mine-recognition\\dataset\\labels\\val.cache... 88 images, 27 backgrounds, 0 corrupt: 100%|██████████| 88/88 [00:00\u001B[0m\n",
      "                 Class     Images  Instances      Box(P          R      mAP50  mAP50-95): 100%|██████████| 6/6 [00:10<00:00,  1.80s/it]\n"
     ]
    },
    {
     "name": "stdout",
     "output_type": "stream",
     "text": [
      "                   all         88         61      0.999          1      0.995      0.832\n",
      "Speed: 0.6ms preprocess, 37.5ms inference, 0.0ms loss, 2.1ms postprocess per image\n",
      "Results saved to \u001B[1mresults\\val_run\u001B[0m\n",
      "Model Performance:\n",
      "mAP@0.5: 0.9950\n",
      "mAP@0.5:0.95: 0.8318\n",
      "Results saved to: results/val_run\n"
     ]
    }
   ],
   "source": [
    "from ultralytics import YOLO\n",
    "\n",
    "# Load the trained model\n",
    "trained_model_path = \"results/train_run/weights/best.pt\"  # Update the path to your best model\n",
    "model = YOLO(trained_model_path)\n",
    "\n",
    "# Custom results directory\n",
    "results_dir = \"results\"  # Directory where validation results will be saved\n",
    "\n",
    "# Evaluate the model and save results to custom directory\n",
    "results = model.val(project=results_dir, name=\"val_run\", exist_ok=True)\n",
    "\n",
    "# Print key metrics\n",
    "print(\"Model Performance:\")\n",
    "print(f\"mAP@0.5: {results.box.map50:.4f}\")   # Mean Average Precision at IoU=0.5\n",
    "print(f\"mAP@0.5:0.95: {results.box.map:.4f}\")  # Mean Average Precision at IoU=0.5:0.95\n",
    "\n",
    "# Results saved location\n",
    "print(f\"Results saved to: {results_dir}/val_run\")\n"
   ],
   "metadata": {
    "collapsed": false,
    "pycharm": {
     "name": "#%%\n"
    }
   }
  },
  {
   "cell_type": "code",
   "execution_count": 36,
   "outputs": [],
   "source": [],
   "metadata": {
    "collapsed": false,
    "pycharm": {
     "name": "#%%\n"
    }
   }
  }
 ],
 "metadata": {
  "kernelspec": {
   "display_name": "Python 3",
   "language": "python",
   "name": "python3"
  },
  "language_info": {
   "codemirror_mode": {
    "name": "ipython",
    "version": 2
   },
   "file_extension": ".py",
   "mimetype": "text/x-python",
   "name": "python",
   "nbconvert_exporter": "python",
   "pygments_lexer": "ipython2",
   "version": "2.7.6"
  }
 },
 "nbformat": 4,
 "nbformat_minor": 0
}